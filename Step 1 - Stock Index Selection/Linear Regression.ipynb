{
 "cells": [
  {
   "cell_type": "markdown",
   "id": "303437c4",
   "metadata": {},
   "source": [
    "# Imports"
   ]
  },
  {
   "cell_type": "code",
   "execution_count": 1,
   "id": "0ee40ee5",
   "metadata": {},
   "outputs": [],
   "source": [
    "import pandas as pd\n",
    "from sklearn.linear_model import LinearRegression\n",
    "from sklearn.metrics import mean_squared_error"
   ]
  },
  {
   "cell_type": "markdown",
   "id": "1fa32a1d",
   "metadata": {},
   "source": [
    "# Data Cleaning"
   ]
  },
  {
   "cell_type": "code",
   "execution_count": 2,
   "id": "b1a49b2b",
   "metadata": {},
   "outputs": [],
   "source": [
    "SandP500 = pd.read_csv(\"./Stock Indexes Data/S&P500.csv\")\n",
    "NASDAQ = pd.read_csv(\"./Stock Indexes Data/NASDAQ.csv\")\n",
    "Dow = pd.read_csv(\"./Stock Indexes Data/DowJones.csv\")\n",
    "Russell2000 = pd.read_csv(\"./Stock Indexes Data/Russell2000.csv\")\n",
    "\n",
    "SandP500_futures = pd.read_csv(\"./Stock Indexes Data/S&P500_test.csv\")\n",
    "NASDAQ_futures = pd.read_csv(\"./Stock Indexes Data/NASDAQ_test.csv\")\n",
    "Dow_futures = pd.read_csv(\"./Stock Indexes Data/DowJones_test.csv\")\n",
    "Russell2000_futures = pd.read_csv(\"./Stock Indexes Data/Russell2000_test.csv\")"
   ]
  },
  {
   "cell_type": "code",
   "execution_count": 3,
   "id": "3995e2d7",
   "metadata": {},
   "outputs": [],
   "source": [
    "SandP500 = SandP500[['Date', 'Close*']]\n",
    "SandP500_futures = SandP500_futures[['Date', 'Close*']]\n",
    "NASDAQ = NASDAQ[['Date', 'Close*']]\n",
    "NASDAQ_futures = NASDAQ_futures[['Date', 'Close*']]\n",
    "Dow = Dow[['Date', 'Close*']]\n",
    "Dow_futures = Dow_futures[['Date', 'Close*']]\n",
    "Russell2000 = Russell2000[['Date', 'Close*']]\n",
    "Russell2000_futures = Russell2000_futures[['Date', 'Close*']]"
   ]
  },
  {
   "cell_type": "code",
   "execution_count": 4,
   "id": "a4423026",
   "metadata": {},
   "outputs": [],
   "source": [
    "SandP500['Date'] = pd.to_datetime(SandP500['Date'])\n",
    "SandP500_futures['Date'] = pd.to_datetime(SandP500_futures['Date'])\n",
    "NASDAQ['Date'] = pd.to_datetime(NASDAQ['Date'])\n",
    "NASDAQ_futures['Date'] = pd.to_datetime(NASDAQ_futures['Date'])\n",
    "Dow['Date'] = pd.to_datetime(Dow['Date'])\n",
    "Dow_futures['Date'] = pd.to_datetime(Dow_futures['Date'])\n",
    "Russell2000['Date'] = pd.to_datetime(Russell2000['Date'])\n",
    "Russell2000_futures['Date'] = pd.to_datetime(Russell2000_futures['Date'])"
   ]
  },
  {
   "cell_type": "code",
   "execution_count": 5,
   "id": "7ce1a328",
   "metadata": {},
   "outputs": [],
   "source": [
    "SandP500['Close*'] = SandP500['Close*'].str.replace(\",\", \"\")\n",
    "SandP500_futures['Close*'] = SandP500_futures['Close*'].str.replace(\",\", \"\")\n",
    "SandP500['Close*'] = SandP500['Close*'].astype(float)\n",
    "SandP500_futures['Close*'] = SandP500_futures['Close*'].astype(float)\n",
    "\n",
    "Dow['Close*'] = Dow['Close*'].str.replace(\",\", \"\")\n",
    "Dow_futures['Close*'] = Dow_futures['Close*'].str.replace(\",\", \"\")\n",
    "Dow['Close*'] = Dow['Close*'].astype(float)\n",
    "Dow_futures['Close*'] = Dow_futures['Close*'].astype(float)\n",
    "\n",
    "Russell2000['Close*'] = Russell2000['Close*'].str.replace(\",\", \"\")\n",
    "Russell2000_futures['Close*'] = Russell2000_futures['Close*'].str.replace(\",\", \"\")\n",
    "Russell2000['Close*'] = Russell2000['Close*'].astype(float)\n",
    "Russell2000_futures['Close*'] = Russell2000_futures['Close*'].astype(float)\n",
    "\n",
    "NASDAQ['Close*'] = NASDAQ['Close*'].str.replace(\",\", \"\")\n",
    "NASDAQ_futures['Close*'] = NASDAQ_futures['Close*'].str.replace(\",\", \"\")\n",
    "NASDAQ['Close*'] = NASDAQ['Close*'].astype(float)\n",
    "NASDAQ_futures['Close*'] = NASDAQ_futures['Close*'].astype(float)"
   ]
  },
  {
   "cell_type": "markdown",
   "id": "9869e84d",
   "metadata": {},
   "source": [
    "# Modeling"
   ]
  },
  {
   "cell_type": "markdown",
   "id": "46743271",
   "metadata": {},
   "source": [
    "### Russell2000"
   ]
  },
  {
   "cell_type": "code",
   "execution_count": 6,
   "id": "2eea30de",
   "metadata": {},
   "outputs": [],
   "source": [
    "train_x = pd.concat([Russell2000['Date'].dt.month, Russell2000['Date'].dt.day, Russell2000['Date'].dt.year], axis=1)\n",
    "train_y = Russell2000['Close*']\n",
    "test_x = pd.concat([Russell2000_futures['Date'].dt.month, Russell2000_futures['Date'].dt.day, Russell2000_futures['Date'].dt.year], axis=1)\n",
    "test_y = Russell2000_futures['Close*']"
   ]
  },
  {
   "cell_type": "code",
   "execution_count": 7,
   "id": "d4e5df66",
   "metadata": {},
   "outputs": [],
   "source": [
    "model = LinearRegression()"
   ]
  },
  {
   "cell_type": "code",
   "execution_count": 8,
   "id": "56c1847a",
   "metadata": {},
   "outputs": [
    {
     "data": {
      "text/plain": [
       "LinearRegression()"
      ]
     },
     "execution_count": 8,
     "metadata": {},
     "output_type": "execute_result"
    }
   ],
   "source": [
    "model.fit(pd.DataFrame(train_x), pd.DataFrame(train_y))"
   ]
  },
  {
   "cell_type": "code",
   "execution_count": 9,
   "id": "5acd1c72",
   "metadata": {},
   "outputs": [],
   "source": [
    "predictions = model.predict(pd.DataFrame(test_x))"
   ]
  },
  {
   "cell_type": "code",
   "execution_count": 10,
   "id": "66371ace",
   "metadata": {},
   "outputs": [],
   "source": [
    "RMSE = mean_squared_error(test_y, predictions, squared = False)"
   ]
  },
  {
   "cell_type": "code",
   "execution_count": 11,
   "id": "5497e9ca",
   "metadata": {},
   "outputs": [
    {
     "data": {
      "text/plain": [
       "281.9938269275524"
      ]
     },
     "execution_count": 11,
     "metadata": {},
     "output_type": "execute_result"
    }
   ],
   "source": [
    "RMSE"
   ]
  },
  {
   "cell_type": "markdown",
   "id": "7b0302fc",
   "metadata": {},
   "source": [
    "### S&P500"
   ]
  },
  {
   "cell_type": "code",
   "execution_count": 13,
   "id": "4aa9fe67",
   "metadata": {},
   "outputs": [],
   "source": [
    "train_x = pd.concat([SandP500['Date'].dt.month, SandP500['Date'].dt.day, SandP500['Date'].dt.year], axis=1)\n",
    "train_y = SandP500['Close*']\n",
    "test_x = pd.concat([SandP500_futures['Date'].dt.month, SandP500_futures['Date'].dt.day, SandP500_futures['Date'].dt.year], axis=1)\n",
    "test_y = SandP500_futures['Close*']"
   ]
  },
  {
   "cell_type": "code",
   "execution_count": 14,
   "id": "53006298",
   "metadata": {},
   "outputs": [],
   "source": [
    "model = LinearRegression()"
   ]
  },
  {
   "cell_type": "code",
   "execution_count": 15,
   "id": "3c64f97c",
   "metadata": {
    "scrolled": true
   },
   "outputs": [
    {
     "data": {
      "text/plain": [
       "LinearRegression()"
      ]
     },
     "execution_count": 15,
     "metadata": {},
     "output_type": "execute_result"
    }
   ],
   "source": [
    "model.fit(pd.DataFrame(train_x), pd.DataFrame(train_y))"
   ]
  },
  {
   "cell_type": "code",
   "execution_count": 16,
   "id": "d764d35a",
   "metadata": {},
   "outputs": [],
   "source": [
    "predictions = model.predict(pd.DataFrame(test_x))"
   ]
  },
  {
   "cell_type": "code",
   "execution_count": 17,
   "id": "43a4afd0",
   "metadata": {},
   "outputs": [],
   "source": [
    "RMSE = mean_squared_error(test_y, predictions, squared = False)"
   ]
  },
  {
   "cell_type": "code",
   "execution_count": 18,
   "id": "4de85613",
   "metadata": {},
   "outputs": [
    {
     "data": {
      "text/plain": [
       "445.5463316730266"
      ]
     },
     "execution_count": 18,
     "metadata": {},
     "output_type": "execute_result"
    }
   ],
   "source": [
    "RMSE"
   ]
  },
  {
   "cell_type": "markdown",
   "id": "fbceabce",
   "metadata": {},
   "source": [
    "### Dow"
   ]
  },
  {
   "cell_type": "code",
   "execution_count": 19,
   "id": "e06e0d78",
   "metadata": {},
   "outputs": [],
   "source": [
    "train_x = pd.concat([Dow['Date'].dt.month, Dow['Date'].dt.day, Dow['Date'].dt.year], axis=1)\n",
    "train_y = Dow['Close*']\n",
    "test_x = pd.concat([Dow_futures['Date'].dt.month, Dow_futures['Date'].dt.day, Dow_futures['Date'].dt.year], axis=1)\n",
    "test_y = Dow_futures['Close*']"
   ]
  },
  {
   "cell_type": "code",
   "execution_count": 20,
   "id": "db356312",
   "metadata": {},
   "outputs": [],
   "source": [
    "model = LinearRegression()"
   ]
  },
  {
   "cell_type": "code",
   "execution_count": 21,
   "id": "ed2b552b",
   "metadata": {},
   "outputs": [
    {
     "data": {
      "text/plain": [
       "LinearRegression()"
      ]
     },
     "execution_count": 21,
     "metadata": {},
     "output_type": "execute_result"
    }
   ],
   "source": [
    "model.fit(pd.DataFrame(train_x), pd.DataFrame(train_y))"
   ]
  },
  {
   "cell_type": "code",
   "execution_count": 22,
   "id": "b04b9c22",
   "metadata": {},
   "outputs": [],
   "source": [
    "predictions = model.predict(pd.DataFrame(test_x))"
   ]
  },
  {
   "cell_type": "code",
   "execution_count": 23,
   "id": "3ba770b8",
   "metadata": {},
   "outputs": [],
   "source": [
    "RMSE = mean_squared_error(test_y, predictions, squared = False)"
   ]
  },
  {
   "cell_type": "code",
   "execution_count": 24,
   "id": "b104899e",
   "metadata": {},
   "outputs": [
    {
     "data": {
      "text/plain": [
       "3043.0442990658403"
      ]
     },
     "execution_count": 24,
     "metadata": {},
     "output_type": "execute_result"
    }
   ],
   "source": [
    "RMSE"
   ]
  },
  {
   "cell_type": "markdown",
   "id": "26c70d36",
   "metadata": {},
   "source": [
    "### NASDAQ"
   ]
  },
  {
   "cell_type": "code",
   "execution_count": 25,
   "id": "8bfcf9c0",
   "metadata": {},
   "outputs": [],
   "source": [
    "train_x = pd.concat([NASDAQ['Date'].dt.month, NASDAQ['Date'].dt.day, NASDAQ['Date'].dt.year], axis=1)\n",
    "train_y = NASDAQ['Close*']\n",
    "test_x = pd.concat([NASDAQ_futures['Date'].dt.month, NASDAQ_futures['Date'].dt.day, NASDAQ_futures['Date'].dt.year], axis=1)\n",
    "test_y = NASDAQ_futures['Close*']"
   ]
  },
  {
   "cell_type": "code",
   "execution_count": 26,
   "id": "9ab54a09",
   "metadata": {},
   "outputs": [],
   "source": [
    "model = LinearRegression()"
   ]
  },
  {
   "cell_type": "code",
   "execution_count": 27,
   "id": "30f05d99",
   "metadata": {},
   "outputs": [
    {
     "data": {
      "text/plain": [
       "LinearRegression()"
      ]
     },
     "execution_count": 27,
     "metadata": {},
     "output_type": "execute_result"
    }
   ],
   "source": [
    "model.fit(pd.DataFrame(train_x), pd.DataFrame(train_y))"
   ]
  },
  {
   "cell_type": "code",
   "execution_count": 28,
   "id": "e58e8358",
   "metadata": {},
   "outputs": [],
   "source": [
    "predictions = model.predict(pd.DataFrame(test_x))"
   ]
  },
  {
   "cell_type": "code",
   "execution_count": 29,
   "id": "f28279e7",
   "metadata": {},
   "outputs": [],
   "source": [
    "RMSE = mean_squared_error(test_y, predictions, squared = False)"
   ]
  },
  {
   "cell_type": "code",
   "execution_count": 30,
   "id": "25816219",
   "metadata": {},
   "outputs": [
    {
     "data": {
      "text/plain": [
       "2842.450273147951"
      ]
     },
     "execution_count": 30,
     "metadata": {},
     "output_type": "execute_result"
    }
   ],
   "source": [
    "RMSE"
   ]
  }
 ],
 "metadata": {
  "kernelspec": {
   "display_name": "Python 3",
   "language": "python",
   "name": "python3"
  },
  "language_info": {
   "codemirror_mode": {
    "name": "ipython",
    "version": 3
   },
   "file_extension": ".py",
   "mimetype": "text/x-python",
   "name": "python",
   "nbconvert_exporter": "python",
   "pygments_lexer": "ipython3",
   "version": "3.8.5"
  }
 },
 "nbformat": 4,
 "nbformat_minor": 5
}
