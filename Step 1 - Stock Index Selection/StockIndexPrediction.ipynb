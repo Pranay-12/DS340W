{
 "cells": [
  {
   "cell_type": "markdown",
   "metadata": {},
   "source": [
    "# Imports"
   ]
  },
  {
   "cell_type": "code",
   "execution_count": 1,
   "metadata": {
    "tags": []
   },
   "outputs": [],
   "source": [
    "from neuralprophet import NeuralProphet\n",
    "import pandas as pd\n",
    "import numpy as np\n",
    "import datetime\n",
    "import matplotlib.pyplot as plt\n",
    "from sklearn.metrics import mean_squared_error"
   ]
  },
  {
   "cell_type": "markdown",
   "metadata": {},
   "source": [
    "# Reading Data"
   ]
  },
  {
   "cell_type": "code",
   "execution_count": 4,
   "metadata": {},
   "outputs": [],
   "source": [
    "SandP500 = pd.read_csv(\"./Stock Indexes Data/S&P500.csv\")\n",
    "NASDAQ = pd.read_csv(\"./Stock Indexes Data/NASDAQ.csv\")\n",
    "Dow = pd.read_csv(\"./Stock Indexes Data/DowJones.csv\")\n",
    "Russell2000 = pd.read_csv(\"./Stock Indexes Data/Russell2000.csv\")\n",
    "\n",
    "SandP500_futures = pd.read_csv(\"./Stock Indexes Data/S&P500_test.csv\")\n",
    "NASDAQ_futures = pd.read_csv(\"./Stock Indexes Data/NASDAQ_test.csv\")\n",
    "Dow_futures = pd.read_csv(\"./Stock Indexes Data/DowJones_test.csv\")\n",
    "Russell2000_futures = pd.read_csv(\"./Stock Indexes Data/Russell2000_test.csv\")"
   ]
  },
  {
   "cell_type": "markdown",
   "metadata": {},
   "source": [
    "# Data Cleaning of Model Input Data"
   ]
  },
  {
   "cell_type": "code",
   "execution_count": 5,
   "metadata": {},
   "outputs": [],
   "source": [
    "SandP500['ID'] =  \"S&P500\"\n",
    "NASDAQ['ID'] = \"NASDAQ\"\n",
    "Dow['ID'] = \"Dow\"\n",
    "Russell2000['ID'] = \"Russell2000\"\n",
    "\n",
    "SandP500_futures['ID'] =  \"S&P500\"\n",
    "NASDAQ_futures['ID'] = \"NASDAQ\"\n",
    "Dow_futures['ID'] = \"Dow\"\n",
    "Russell2000_futures['ID'] = \"Russell2000\""
   ]
  },
  {
   "cell_type": "code",
   "execution_count": 6,
   "metadata": {},
   "outputs": [],
   "source": [
    "data = pd.concat([SandP500, NASDAQ, Dow, Russell2000])\n",
    "futures = pd.concat([SandP500_futures, NASDAQ_futures, Dow_futures, Russell2000_futures])"
   ]
  },
  {
   "cell_type": "code",
   "execution_count": 7,
   "metadata": {},
   "outputs": [],
   "source": [
    "data['Date'] = pd.to_datetime(data['Date'])\n",
    "futures['Date'] = pd.to_datetime(futures['Date'])"
   ]
  },
  {
   "cell_type": "code",
   "execution_count": 8,
   "metadata": {},
   "outputs": [],
   "source": [
    "train = data[['Date', 'Close*', 'ID']]\n",
    "test = futures[['Date', 'Close*', 'ID']]"
   ]
  },
  {
   "cell_type": "code",
   "execution_count": 9,
   "metadata": {},
   "outputs": [],
   "source": [
    "train.columns = ['ds', 'y', 'ID']\n",
    "test.columns = ['ds', 'y', 'ID']"
   ]
  },
  {
   "cell_type": "code",
   "execution_count": 10,
   "metadata": {},
   "outputs": [
    {
     "name": "stderr",
     "output_type": "stream",
     "text": [
      "WARNING - (py.warnings._showwarnmsg) - <ipython-input-10-75c45ebedeb0>:1: SettingWithCopyWarning: \n",
      "A value is trying to be set on a copy of a slice from a DataFrame.\n",
      "Try using .loc[row_indexer,col_indexer] = value instead\n",
      "\n",
      "See the caveats in the documentation: https://pandas.pydata.org/pandas-docs/stable/user_guide/indexing.html#returning-a-view-versus-a-copy\n",
      "  train['y'] = train['y'].str.replace(\",\", \"\")\n",
      "\n",
      "WARNING - (py.warnings._showwarnmsg) - <ipython-input-10-75c45ebedeb0>:2: SettingWithCopyWarning: \n",
      "A value is trying to be set on a copy of a slice from a DataFrame.\n",
      "Try using .loc[row_indexer,col_indexer] = value instead\n",
      "\n",
      "See the caveats in the documentation: https://pandas.pydata.org/pandas-docs/stable/user_guide/indexing.html#returning-a-view-versus-a-copy\n",
      "  test['y'] = test['y'].str.replace(\",\", \"\")\n",
      "\n"
     ]
    }
   ],
   "source": [
    "train['y'] = train['y'].str.replace(\",\", \"\")\n",
    "test['y'] = test['y'].str.replace(\",\", \"\")"
   ]
  },
  {
   "cell_type": "code",
   "execution_count": 11,
   "metadata": {},
   "outputs": [
    {
     "name": "stderr",
     "output_type": "stream",
     "text": [
      "WARNING - (py.warnings._showwarnmsg) - <ipython-input-11-19cfdda7f78a>:1: SettingWithCopyWarning: \n",
      "A value is trying to be set on a copy of a slice from a DataFrame.\n",
      "Try using .loc[row_indexer,col_indexer] = value instead\n",
      "\n",
      "See the caveats in the documentation: https://pandas.pydata.org/pandas-docs/stable/user_guide/indexing.html#returning-a-view-versus-a-copy\n",
      "  train['y'] = train['y'].astype(float)\n",
      "\n",
      "WARNING - (py.warnings._showwarnmsg) - <ipython-input-11-19cfdda7f78a>:2: SettingWithCopyWarning: \n",
      "A value is trying to be set on a copy of a slice from a DataFrame.\n",
      "Try using .loc[row_indexer,col_indexer] = value instead\n",
      "\n",
      "See the caveats in the documentation: https://pandas.pydata.org/pandas-docs/stable/user_guide/indexing.html#returning-a-view-versus-a-copy\n",
      "  test['y'] = test['y'].astype(float)\n",
      "\n"
     ]
    }
   ],
   "source": [
    "train['y'] = train['y'].astype(float)\n",
    "test['y'] = test['y'].astype(float)"
   ]
  },
  {
   "cell_type": "markdown",
   "metadata": {},
   "source": [
    "# Model"
   ]
  },
  {
   "cell_type": "code",
   "execution_count": 12,
   "metadata": {},
   "outputs": [],
   "source": [
    "model = NeuralProphet(\n",
    "    growth=\"off\",\n",
    "    yearly_seasonality=False,\n",
    "    weekly_seasonality=False,\n",
    "    daily_seasonality=False,\n",
    "    n_lags=31,\n",
    "    num_hidden_layers=4,\n",
    "    d_hidden=8,\n",
    "    learning_rate=0.01\n",
    ")"
   ]
  },
  {
   "cell_type": "code",
   "execution_count": 13,
   "metadata": {},
   "outputs": [
    {
     "name": "stderr",
     "output_type": "stream",
     "text": [
      "INFO - (NP.df_utils._infer_frequency) - Major frequency B corresponds to 96.346% of the data.\n",
      "INFO - (NP.df_utils._infer_frequency) - Defined frequency is equal to major frequency - D\n",
      "INFO - (NP.df_utils._infer_frequency) - Major frequency B corresponds to 96.346% of the data.\n",
      "INFO - (NP.df_utils._infer_frequency) - Defined frequency is equal to major frequency - D\n",
      "INFO - (NP.df_utils._infer_frequency) - Major frequency B corresponds to 96.346% of the data.\n",
      "INFO - (NP.df_utils._infer_frequency) - Defined frequency is equal to major frequency - D\n",
      "INFO - (NP.df_utils._infer_frequency) - Major frequency B corresponds to 96.346% of the data.\n",
      "INFO - (NP.df_utils._infer_frequency) - Defined frequency is equal to major frequency - D\n",
      "INFO - (NP.forecaster.__handle_missing_data) - 565 missing dates added.\n",
      "WARNING - (NP.forecaster.__handle_missing_data) - 565 missing values in column y were detected in total. \n",
      "INFO - (NP.forecaster.__handle_missing_data) - 565 NaN values in column y were auto-imputed.\n",
      "INFO - (NP.forecaster.__handle_missing_data) - 565 missing dates added.\n",
      "WARNING - (NP.forecaster.__handle_missing_data) - 565 missing values in column y were detected in total. \n",
      "INFO - (NP.forecaster.__handle_missing_data) - 565 NaN values in column y were auto-imputed.\n",
      "INFO - (NP.forecaster.__handle_missing_data) - 565 missing dates added.\n",
      "WARNING - (NP.forecaster.__handle_missing_data) - 565 missing values in column y were detected in total. \n",
      "INFO - (NP.forecaster.__handle_missing_data) - 565 NaN values in column y were auto-imputed.\n",
      "INFO - (NP.forecaster.__handle_missing_data) - 565 missing dates added.\n",
      "WARNING - (NP.forecaster.__handle_missing_data) - 565 missing values in column y were detected in total. \n",
      "INFO - (NP.forecaster.__handle_missing_data) - 565 NaN values in column y were auto-imputed.\n",
      "INFO - (NP.config.set_auto_batch_epoch) - Auto-set batch_size to 32\n",
      "INFO - (NP.config.set_auto_batch_epoch) - Auto-set epochs to 112\n",
      "WARNING - (NP.forecaster._train) - When Global modeling with local normalization, metrics are displayed in normalized scale.\n",
      "Epoch[112/112]: 100%|█| 112/112 [00:52<00:00,  2.15it/s, SmoothL1Loss=8.12e-5, MAE=0.00809, RMSE=0.0123, Loss=6.85e-5, \n"
     ]
    },
    {
     "data": {
      "text/html": [
       "<div>\n",
       "<style scoped>\n",
       "    .dataframe tbody tr th:only-of-type {\n",
       "        vertical-align: middle;\n",
       "    }\n",
       "\n",
       "    .dataframe tbody tr th {\n",
       "        vertical-align: top;\n",
       "    }\n",
       "\n",
       "    .dataframe thead th {\n",
       "        text-align: right;\n",
       "    }\n",
       "</style>\n",
       "<table border=\"1\" class=\"dataframe\">\n",
       "  <thead>\n",
       "    <tr style=\"text-align: right;\">\n",
       "      <th></th>\n",
       "      <th>SmoothL1Loss</th>\n",
       "      <th>MAE</th>\n",
       "      <th>RMSE</th>\n",
       "      <th>Loss</th>\n",
       "      <th>RegLoss</th>\n",
       "    </tr>\n",
       "  </thead>\n",
       "  <tbody>\n",
       "    <tr>\n",
       "      <th>0</th>\n",
       "      <td>0.498630</td>\n",
       "      <td>0.988104</td>\n",
       "      <td>0.990689</td>\n",
       "      <td>0.380635</td>\n",
       "      <td>0.0</td>\n",
       "    </tr>\n",
       "    <tr>\n",
       "      <th>1</th>\n",
       "      <td>0.102442</td>\n",
       "      <td>0.417439</td>\n",
       "      <td>0.434741</td>\n",
       "      <td>0.072797</td>\n",
       "      <td>0.0</td>\n",
       "    </tr>\n",
       "    <tr>\n",
       "      <th>2</th>\n",
       "      <td>0.024216</td>\n",
       "      <td>0.192514</td>\n",
       "      <td>0.218428</td>\n",
       "      <td>0.016070</td>\n",
       "      <td>0.0</td>\n",
       "    </tr>\n",
       "    <tr>\n",
       "      <th>3</th>\n",
       "      <td>0.008558</td>\n",
       "      <td>0.109532</td>\n",
       "      <td>0.126120</td>\n",
       "      <td>0.005988</td>\n",
       "      <td>0.0</td>\n",
       "    </tr>\n",
       "    <tr>\n",
       "      <th>4</th>\n",
       "      <td>0.000993</td>\n",
       "      <td>0.032299</td>\n",
       "      <td>0.041988</td>\n",
       "      <td>0.000772</td>\n",
       "      <td>0.0</td>\n",
       "    </tr>\n",
       "    <tr>\n",
       "      <th>...</th>\n",
       "      <td>...</td>\n",
       "      <td>...</td>\n",
       "      <td>...</td>\n",
       "      <td>...</td>\n",
       "      <td>...</td>\n",
       "    </tr>\n",
       "    <tr>\n",
       "      <th>107</th>\n",
       "      <td>0.000082</td>\n",
       "      <td>0.008153</td>\n",
       "      <td>0.012327</td>\n",
       "      <td>0.000069</td>\n",
       "      <td>0.0</td>\n",
       "    </tr>\n",
       "    <tr>\n",
       "      <th>108</th>\n",
       "      <td>0.000082</td>\n",
       "      <td>0.008131</td>\n",
       "      <td>0.012329</td>\n",
       "      <td>0.000069</td>\n",
       "      <td>0.0</td>\n",
       "    </tr>\n",
       "    <tr>\n",
       "      <th>109</th>\n",
       "      <td>0.000082</td>\n",
       "      <td>0.008122</td>\n",
       "      <td>0.012325</td>\n",
       "      <td>0.000069</td>\n",
       "      <td>0.0</td>\n",
       "    </tr>\n",
       "    <tr>\n",
       "      <th>110</th>\n",
       "      <td>0.000081</td>\n",
       "      <td>0.008096</td>\n",
       "      <td>0.012233</td>\n",
       "      <td>0.000069</td>\n",
       "      <td>0.0</td>\n",
       "    </tr>\n",
       "    <tr>\n",
       "      <th>111</th>\n",
       "      <td>0.000081</td>\n",
       "      <td>0.008089</td>\n",
       "      <td>0.012258</td>\n",
       "      <td>0.000069</td>\n",
       "      <td>0.0</td>\n",
       "    </tr>\n",
       "  </tbody>\n",
       "</table>\n",
       "<p>112 rows × 5 columns</p>\n",
       "</div>"
      ],
      "text/plain": [
       "     SmoothL1Loss       MAE      RMSE      Loss  RegLoss\n",
       "0        0.498630  0.988104  0.990689  0.380635      0.0\n",
       "1        0.102442  0.417439  0.434741  0.072797      0.0\n",
       "2        0.024216  0.192514  0.218428  0.016070      0.0\n",
       "3        0.008558  0.109532  0.126120  0.005988      0.0\n",
       "4        0.000993  0.032299  0.041988  0.000772      0.0\n",
       "..            ...       ...       ...       ...      ...\n",
       "107      0.000082  0.008153  0.012327  0.000069      0.0\n",
       "108      0.000082  0.008131  0.012329  0.000069      0.0\n",
       "109      0.000082  0.008122  0.012325  0.000069      0.0\n",
       "110      0.000081  0.008096  0.012233  0.000069      0.0\n",
       "111      0.000081  0.008089  0.012258  0.000069      0.0\n",
       "\n",
       "[112 rows x 5 columns]"
      ]
     },
     "execution_count": 13,
     "metadata": {},
     "output_type": "execute_result"
    }
   ],
   "source": [
    "model.fit(train, freq='D')"
   ]
  },
  {
   "cell_type": "code",
   "execution_count": 14,
   "metadata": {},
   "outputs": [
    {
     "name": "stderr",
     "output_type": "stream",
     "text": [
      "INFO - (NP.df_utils._infer_frequency) - Major frequency -1D corresponds to 79.327% of the data.\n",
      "WARNING - (NP.df_utils._infer_frequency) - Defined frequency D is different than major frequency -1D\n",
      "INFO - (NP.df_utils._infer_frequency) - Major frequency -1D corresponds to 79.327% of the data.\n",
      "WARNING - (NP.df_utils._infer_frequency) - Defined frequency D is different than major frequency -1D\n",
      "INFO - (NP.df_utils._infer_frequency) - Major frequency -1D corresponds to 79.327% of the data.\n",
      "WARNING - (NP.df_utils._infer_frequency) - Defined frequency D is different than major frequency -1D\n",
      "INFO - (NP.df_utils._infer_frequency) - Major frequency -1D corresponds to 79.327% of the data.\n",
      "WARNING - (NP.df_utils._infer_frequency) - Defined frequency D is different than major frequency -1D\n",
      "INFO - (NP.df_utils._infer_frequency) - Major frequency -1D corresponds to 78.947% of the data.\n",
      "WARNING - (NP.df_utils._infer_frequency) - Defined frequency D is different than major frequency -1D\n",
      "INFO - (NP.forecaster.__handle_missing_data) - 91 missing dates added.\n",
      "WARNING - (NP.forecaster.__handle_missing_data) - 91 missing values in column y were detected in total. \n",
      "INFO - (NP.forecaster.__handle_missing_data) - 91 NaN values in column y were auto-imputed.\n",
      "INFO - (NP.df_utils._infer_frequency) - Major frequency -1D corresponds to 78.947% of the data.\n",
      "WARNING - (NP.df_utils._infer_frequency) - Defined frequency D is different than major frequency -1D\n",
      "INFO - (NP.forecaster.__handle_missing_data) - 91 missing dates added.\n",
      "WARNING - (NP.forecaster.__handle_missing_data) - 91 missing values in column y were detected in total. \n",
      "INFO - (NP.forecaster.__handle_missing_data) - 91 NaN values in column y were auto-imputed.\n",
      "INFO - (NP.df_utils._infer_frequency) - Major frequency -1D corresponds to 78.947% of the data.\n",
      "WARNING - (NP.df_utils._infer_frequency) - Defined frequency D is different than major frequency -1D\n",
      "INFO - (NP.forecaster.__handle_missing_data) - 91 missing dates added.\n",
      "WARNING - (NP.forecaster.__handle_missing_data) - 91 missing values in column y were detected in total. \n",
      "INFO - (NP.forecaster.__handle_missing_data) - 91 NaN values in column y were auto-imputed.\n",
      "INFO - (NP.df_utils._infer_frequency) - Major frequency -1D corresponds to 78.947% of the data.\n",
      "WARNING - (NP.df_utils._infer_frequency) - Defined frequency D is different than major frequency -1D\n",
      "INFO - (NP.forecaster.__handle_missing_data) - 91 missing dates added.\n",
      "WARNING - (NP.forecaster.__handle_missing_data) - 91 missing values in column y were detected in total. \n",
      "INFO - (NP.forecaster.__handle_missing_data) - 91 NaN values in column y were auto-imputed.\n"
     ]
    }
   ],
   "source": [
    "predictions = model.predict(test)"
   ]
  },
  {
   "cell_type": "code",
   "execution_count": 15,
   "metadata": {},
   "outputs": [],
   "source": [
    "predictions = predictions[predictions['yhat1'].notna()]"
   ]
  },
  {
   "cell_type": "code",
   "execution_count": 16,
   "metadata": {},
   "outputs": [],
   "source": [
    "Russell2000_predictions = predictions[predictions['ID'] == 'Russell2000']\n",
    "SandP500_predictions = predictions[predictions['ID'] == 'S&P500']\n",
    "Dow_predictions = predictions[predictions['ID'] == 'Dow']\n",
    "NASDAQ_predictions = predictions[predictions['ID'] == 'NASDAQ']"
   ]
  },
  {
   "cell_type": "markdown",
   "metadata": {},
   "source": [
    "# Model Evaluation/Accuracy"
   ]
  },
  {
   "cell_type": "code",
   "execution_count": 19,
   "metadata": {},
   "outputs": [],
   "source": [
    "RMSE = mean_squared_error(Russell2000_predictions['y'], Russell2000_predictions['yhat1'], squared = False)"
   ]
  },
  {
   "cell_type": "code",
   "execution_count": 20,
   "metadata": {},
   "outputs": [
    {
     "data": {
      "text/plain": [
       "28.64919909751265"
      ]
     },
     "execution_count": 20,
     "metadata": {},
     "output_type": "execute_result"
    }
   ],
   "source": [
    "RMSE"
   ]
  },
  {
   "cell_type": "code",
   "execution_count": 21,
   "metadata": {},
   "outputs": [],
   "source": [
    "RMSE = mean_squared_error(SandP500_predictions['y'], SandP500_predictions['yhat1'], squared = False)"
   ]
  },
  {
   "cell_type": "code",
   "execution_count": 22,
   "metadata": {},
   "outputs": [
    {
     "data": {
      "text/plain": [
       "54.170661854953345"
      ]
     },
     "execution_count": 22,
     "metadata": {},
     "output_type": "execute_result"
    }
   ],
   "source": [
    "RMSE"
   ]
  },
  {
   "cell_type": "code",
   "execution_count": 23,
   "metadata": {},
   "outputs": [],
   "source": [
    "RMSE = mean_squared_error(Dow_predictions['y'], Dow_predictions['yhat1'], squared = False)"
   ]
  },
  {
   "cell_type": "code",
   "execution_count": 24,
   "metadata": {},
   "outputs": [
    {
     "data": {
      "text/plain": [
       "362.2850050222401"
      ]
     },
     "execution_count": 24,
     "metadata": {},
     "output_type": "execute_result"
    }
   ],
   "source": [
    "RMSE"
   ]
  },
  {
   "cell_type": "code",
   "execution_count": 25,
   "metadata": {},
   "outputs": [],
   "source": [
    "RMSE = mean_squared_error(NASDAQ_predictions['y'], NASDAQ_predictions['yhat1'], squared = False)"
   ]
  },
  {
   "cell_type": "code",
   "execution_count": 26,
   "metadata": {},
   "outputs": [
    {
     "data": {
      "text/plain": [
       "215.1726225734726"
      ]
     },
     "execution_count": 26,
     "metadata": {},
     "output_type": "execute_result"
    }
   ],
   "source": [
    "RMSE"
   ]
  },
  {
   "cell_type": "markdown",
   "metadata": {},
   "source": [
    "# Stock Index Percent Increase"
   ]
  },
  {
   "cell_type": "markdown",
   "metadata": {},
   "source": [
    "### S&P 500 Calculations"
   ]
  },
  {
   "cell_type": "code",
   "execution_count": 27,
   "metadata": {},
   "outputs": [
    {
     "data": {
      "text/plain": [
       "'48.42%'"
      ]
     },
     "execution_count": 27,
     "metadata": {},
     "output_type": "execute_result"
    }
   ],
   "source": [
    "SandP_New = SandP500_predictions[SandP500_predictions['ds'] == datetime.datetime(2022, 10, 28)]['yhat1'].reset_index()['yhat1'][0]\n",
    "SandP_Old = train[(train['ds'] == datetime.datetime(2017, 10, 27)) & (train['ID'] == \"S&P500\")]['y'].reset_index()['y'][0]\n",
    "f\"{round((SandP_New-SandP_Old)/SandP_Old*100, 2)}%\""
   ]
  },
  {
   "cell_type": "markdown",
   "metadata": {},
   "source": [
    "### NASDAQ Calculations"
   ]
  },
  {
   "cell_type": "code",
   "execution_count": 28,
   "metadata": {},
   "outputs": [
    {
     "data": {
      "text/plain": [
       "'62.59%'"
      ]
     },
     "execution_count": 28,
     "metadata": {},
     "output_type": "execute_result"
    }
   ],
   "source": [
    "NASDAQ_New = NASDAQ_predictions[NASDAQ_predictions['ds'] == datetime.datetime(2022, 10, 28)]['yhat1'].reset_index()['yhat1'][0]\n",
    "NASDAQ_Old = train[(train['ds'] == datetime.datetime(2017, 10, 27)) & (train['ID'] == \"NASDAQ\")]['y'].reset_index()['y'][0]\n",
    "f\"{round((NASDAQ_New-NASDAQ_Old)/NASDAQ_Old*100, 2)}%\""
   ]
  },
  {
   "cell_type": "markdown",
   "metadata": {},
   "source": [
    "### Dow Calculations"
   ]
  },
  {
   "cell_type": "code",
   "execution_count": 29,
   "metadata": {},
   "outputs": [
    {
     "data": {
      "text/plain": [
       "'36.66%'"
      ]
     },
     "execution_count": 29,
     "metadata": {},
     "output_type": "execute_result"
    }
   ],
   "source": [
    "Dow_New = Dow_predictions[Dow_predictions['ds'] == datetime.datetime(2022, 10, 28)]['yhat1'].reset_index()['yhat1'][0]\n",
    "Dow_Old = train[(train['ds'] == datetime.datetime(2017, 10, 27)) & (train['ID'] == \"Dow\")]['y'].reset_index()['y'][0]\n",
    "f\"{round((Dow_New-Dow_Old)/Dow_Old*100, 2)}%\""
   ]
  },
  {
   "cell_type": "markdown",
   "metadata": {},
   "source": [
    "### Russell 2000 Calculations"
   ]
  },
  {
   "cell_type": "code",
   "execution_count": 30,
   "metadata": {},
   "outputs": [
    {
     "data": {
      "text/plain": [
       "'20.44%'"
      ]
     },
     "execution_count": 30,
     "metadata": {},
     "output_type": "execute_result"
    }
   ],
   "source": [
    "Russell_New = Russell2000_predictions[Russell2000_predictions['ds'] == datetime.datetime(2022, 10, 28)]['yhat1'].reset_index()['yhat1'][0]\n",
    "Russell_Old = train[(train['ds'] == datetime.datetime(2017, 10, 27)) & (train['ID'] == \"Russell2000\")]['y'].reset_index()['y'][0]\n",
    "f\"{round((Russell_New-Russell_Old)/Russell_Old*100, 2)}%\""
   ]
  },
  {
   "cell_type": "markdown",
   "metadata": {},
   "source": [
    "# Stock Index Trend Graphs"
   ]
  },
  {
   "cell_type": "code",
   "execution_count": 31,
   "metadata": {},
   "outputs": [
    {
     "data": {
      "image/png": "[encoded data removed]",
      "text/plain": [
       "<Figure size 432x288 with 1 Axes>"
      ]
     },
     "metadata": {
      "needs_background": "light"
     },
     "output_type": "display_data"
    },
    {
     "data": {
      "image/png": "[encoded data removed]",
      "text/plain": [
       "<Figure size 432x288 with 1 Axes>"
      ]
     },
     "metadata": {
      "needs_background": "light"
     },
     "output_type": "display_data"
    },
    {
     "data": {
      "image/png": "[encoded data removed]",
      "text/plain": [
       "<Figure size 432x288 with 1 Axes>"
      ]
     },
     "metadata": {
      "needs_background": "light"
     },
     "output_type": "display_data"
    },
    {
     "data": {
      "image/png": "[encoded data removed]",
      "text/plain": [
       "<Figure size 432x288 with 1 Axes>"
      ]
     },
     "metadata": {
      "needs_background": "light"
     },
     "output_type": "display_data"
    },
    {
     "data": {
      "text/plain": [
       "<Figure size 432x288 with 0 Axes>"
      ]
     },
     "metadata": {},
     "output_type": "display_data"
    }
   ],
   "source": [
    "stock_indexes = list(train['ID'].unique())\n",
    "for stock_index in stock_indexes:\n",
    "    points = []\n",
    "    points.append(train[(train['ds'] == datetime.datetime(2017, 10, 27)) & (train['ID'] == stock_index)]['y'].reset_index()['y'][0])\n",
    "    points.append(train[(train['ds'] == datetime.datetime(2018, 10, 29)) & (train['ID'] == stock_index)]['y'].reset_index()['y'][0])\n",
    "    points.append(train[(train['ds'] == datetime.datetime(2019, 10, 28)) & (train['ID'] == stock_index)]['y'].reset_index()['y'][0])\n",
    "    points.append(train[(train['ds'] == datetime.datetime(2020, 10, 28)) & (train['ID'] == stock_index)]['y'].reset_index()['y'][0])\n",
    "    points.append(train[(train['ds'] == datetime.datetime(2021, 10, 29)) & (train['ID'] == stock_index)]['y'].reset_index()['y'][0])\n",
    "    if stock_index == \"S&P500\":\n",
    "        points.append(SandP_New)\n",
    "    elif stock_index == \"NASDAQ\":\n",
    "        points.append(NASDAQ_New)\n",
    "    elif stock_index == \"Dow\":\n",
    "        points.append(Dow_New)\n",
    "    elif stock_index == \"Russell2000\":\n",
    "        points.append(Russell_New)\n",
    "    plt.plot([2017,2018,2019,2020,2021,2022], points)\n",
    "    plt.title(f\"{stock_index} Trends\")\n",
    "    plt.xlabel(\"Year\")\n",
    "    plt.ylabel(\"Value\")\n",
    "    plt.show()\n",
    "    plt.clf()"
   ]
  },
  {
   "cell_type": "markdown",
   "metadata": {},
   "source": [
    "We ultimately choose NASDAQ as our stock index because it had the highest increase from a percentage standpoint and it was also consistently increasing throughout the time period we have established."
   ]
  }
 ],
 "metadata": {
  "kernelspec": {
   "display_name": "Python 3",
   "language": "python",
   "name": "python3"
  },
  "language_info": {
   "codemirror_mode": {
    "name": "ipython",
    "version": 3
   },
   "file_extension": ".py",
   "mimetype": "text/x-python",
   "name": "python",
   "nbconvert_exporter": "python",
   "pygments_lexer": "ipython3",
   "version": "3.8.5"
  }
 },
 "nbformat": 4,
 "nbformat_minor": 4
}
