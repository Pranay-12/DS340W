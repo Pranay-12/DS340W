{
 "cells": [
  {
   "cell_type": "code",
   "execution_count": 133,
   "metadata": {
    "tags": []
   },
   "outputs": [],
   "source": [
    "from neuralprophet import NeuralProphet\n",
    "import pandas as pd\n",
    "import numpy as np\n",
    "import datetime\n",
    "import matplotlib.pyplot as plt"
   ]
  },
  {
   "cell_type": "code",
   "execution_count": 48,
   "metadata": {},
   "outputs": [],
   "source": [
    "SandP500 = pd.read_csv(\"S&P500.csv\")\n",
    "NASDAQ = pd.read_csv(\"NASDAQ.csv\")\n",
    "Dow = pd.read_csv(\"DowJones.csv\")\n",
    "Russell2000 = pd.read_csv(\"Russell2000.csv\")\n",
    "\n",
    "SandP500_futures = pd.read_csv(\"S&P500_test.csv\")\n",
    "NASDAQ_futures = pd.read_csv(\"NASDAQ_test.csv\")\n",
    "Dow_futures = pd.read_csv(\"DowJones_test.csv\")\n",
    "Russell2000_futures = pd.read_csv(\"Russell2000_test.csv\")"
   ]
  },
  {
   "cell_type": "code",
   "execution_count": 49,
   "metadata": {},
   "outputs": [],
   "source": [
    "SandP500['ID'] =  \"S&P500\"\n",
    "NASDAQ['ID'] = \"NASDAQ\"\n",
    "Dow['ID'] = \"Dow\"\n",
    "Russell2000['ID'] = \"Russell2000\"\n",
    "\n",
    "SandP500_futures['ID'] =  \"S&P500\"\n",
    "NASDAQ_futures['ID'] = \"NASDAQ\"\n",
    "Dow_futures['ID'] = \"Dow\"\n",
    "Russell2000_futures['ID'] = \"Russell2000\""
   ]
  },
  {
   "cell_type": "code",
   "execution_count": 50,
   "metadata": {},
   "outputs": [],
   "source": [
    "data = pd.concat([SandP500, NASDAQ, Dow, Russell2000])\n",
    "futures = pd.concat([SandP500_futures, NASDAQ_futures, Dow_futures, Russell2000_futures])"
   ]
  },
  {
   "cell_type": "code",
   "execution_count": 51,
   "metadata": {},
   "outputs": [],
   "source": [
    "data['Date'] = pd.to_datetime(data['Date'])\n",
    "futures['Date'] = pd.to_datetime(futures['Date'])"
   ]
  },
  {
   "cell_type": "code",
   "execution_count": 52,
   "metadata": {},
   "outputs": [],
   "source": [
    "train = data[['Date', 'Close*', 'ID']]\n",
    "test = futures[['Date', 'Close*', 'ID']]"
   ]
  },
  {
   "cell_type": "code",
   "execution_count": 53,
   "metadata": {},
   "outputs": [],
   "source": [
    "train.columns = ['ds', 'y', 'ID']\n",
    "test.columns = ['ds', 'y', 'ID']"
   ]
  },
  {
   "cell_type": "code",
   "execution_count": 54,
   "metadata": {},
   "outputs": [
    {
     "name": "stderr",
     "output_type": "stream",
     "text": [
      "WARNING - (py.warnings._showwarnmsg) - <ipython-input-54-75c45ebedeb0>:1: SettingWithCopyWarning: \n",
      "A value is trying to be set on a copy of a slice from a DataFrame.\n",
      "Try using .loc[row_indexer,col_indexer] = value instead\n",
      "\n",
      "See the caveats in the documentation: https://pandas.pydata.org/pandas-docs/stable/user_guide/indexing.html#returning-a-view-versus-a-copy\n",
      "  train['y'] = train['y'].str.replace(\",\", \"\")\n",
      "\n",
      "WARNING - (py.warnings._showwarnmsg) - <ipython-input-54-75c45ebedeb0>:2: SettingWithCopyWarning: \n",
      "A value is trying to be set on a copy of a slice from a DataFrame.\n",
      "Try using .loc[row_indexer,col_indexer] = value instead\n",
      "\n",
      "See the caveats in the documentation: https://pandas.pydata.org/pandas-docs/stable/user_guide/indexing.html#returning-a-view-versus-a-copy\n",
      "  test['y'] = test['y'].str.replace(\",\", \"\")\n",
      "\n"
     ]
    }
   ],
   "source": [
    "train['y'] = train['y'].str.replace(\",\", \"\")\n",
    "test['y'] = test['y'].str.replace(\",\", \"\")"
   ]
  },
  {
   "cell_type": "code",
   "execution_count": 55,
   "metadata": {},
   "outputs": [
    {
     "name": "stderr",
     "output_type": "stream",
     "text": [
      "WARNING - (py.warnings._showwarnmsg) - <ipython-input-55-19cfdda7f78a>:1: SettingWithCopyWarning: \n",
      "A value is trying to be set on a copy of a slice from a DataFrame.\n",
      "Try using .loc[row_indexer,col_indexer] = value instead\n",
      "\n",
      "See the caveats in the documentation: https://pandas.pydata.org/pandas-docs/stable/user_guide/indexing.html#returning-a-view-versus-a-copy\n",
      "  train['y'] = train['y'].astype(float)\n",
      "\n",
      "WARNING - (py.warnings._showwarnmsg) - <ipython-input-55-19cfdda7f78a>:2: SettingWithCopyWarning: \n",
      "A value is trying to be set on a copy of a slice from a DataFrame.\n",
      "Try using .loc[row_indexer,col_indexer] = value instead\n",
      "\n",
      "See the caveats in the documentation: https://pandas.pydata.org/pandas-docs/stable/user_guide/indexing.html#returning-a-view-versus-a-copy\n",
      "  test['y'] = test['y'].astype(float)\n",
      "\n"
     ]
    }
   ],
   "source": [
    "train['y'] = train['y'].astype(float)\n",
    "test['y'] = test['y'].astype(float)"
   ]
  },
  {
   "cell_type": "code",
   "execution_count": 56,
   "metadata": {},
   "outputs": [],
   "source": [
    "model = NeuralProphet(\n",
    "    growth=\"off\",\n",
    "    yearly_seasonality=False,\n",
    "    weekly_seasonality=False,\n",
    "    daily_seasonality=False,\n",
    "    n_lags=31,\n",
    "    num_hidden_layers=4,\n",
    "    d_hidden=8,\n",
    "    learning_rate=0.01\n",
    ")"
   ]
  },
  {
   "cell_type": "code",
   "execution_count": 57,
   "metadata": {},
   "outputs": [
    {
     "name": "stderr",
     "output_type": "stream",
     "text": [
      "INFO - (NP.df_utils._infer_frequency) - Major frequency B corresponds to 96.346% of the data.\n",
      "INFO - (NP.df_utils._infer_frequency) - Defined frequency is equal to major frequency - D\n",
      "INFO - (NP.df_utils._infer_frequency) - Major frequency B corresponds to 96.346% of the data.\n",
      "INFO - (NP.df_utils._infer_frequency) - Defined frequency is equal to major frequency - D\n",
      "INFO - (NP.df_utils._infer_frequency) - Major frequency B corresponds to 96.346% of the data.\n",
      "INFO - (NP.df_utils._infer_frequency) - Defined frequency is equal to major frequency - D\n",
      "INFO - (NP.df_utils._infer_frequency) - Major frequency B corresponds to 96.346% of the data.\n",
      "INFO - (NP.df_utils._infer_frequency) - Defined frequency is equal to major frequency - D\n",
      "INFO - (NP.forecaster.__handle_missing_data) - 565 missing dates added.\n",
      "WARNING - (NP.forecaster.__handle_missing_data) - 565 missing values in column y were detected in total. \n",
      "INFO - (NP.forecaster.__handle_missing_data) - 565 NaN values in column y were auto-imputed.\n",
      "INFO - (NP.forecaster.__handle_missing_data) - 565 missing dates added.\n",
      "WARNING - (NP.forecaster.__handle_missing_data) - 565 missing values in column y were detected in total. \n",
      "INFO - (NP.forecaster.__handle_missing_data) - 565 NaN values in column y were auto-imputed.\n",
      "INFO - (NP.forecaster.__handle_missing_data) - 565 missing dates added.\n",
      "WARNING - (NP.forecaster.__handle_missing_data) - 565 missing values in column y were detected in total. \n",
      "INFO - (NP.forecaster.__handle_missing_data) - 565 NaN values in column y were auto-imputed.\n",
      "INFO - (NP.forecaster.__handle_missing_data) - 565 missing dates added.\n",
      "WARNING - (NP.forecaster.__handle_missing_data) - 565 missing values in column y were detected in total. \n",
      "INFO - (NP.forecaster.__handle_missing_data) - 565 NaN values in column y were auto-imputed.\n",
      "INFO - (NP.config.set_auto_batch_epoch) - Auto-set batch_size to 32\n",
      "INFO - (NP.config.set_auto_batch_epoch) - Auto-set epochs to 112\n",
      "WARNING - (NP.forecaster._train) - When Global modeling with local normalization, metrics are displayed in normalized scale.\n",
      "Epoch[112/112]: 100%|█| 112/112 [00:55<00:00,  2.00it/s, SmoothL1Loss=7.55e-5, MAE=0.00788, RMSE=0.0119, Loss=6.38e-5, \n"
     ]
    },
    {
     "data": {
      "text/html": [
       "<div>\n",
       "<style scoped>\n",
       "    .dataframe tbody tr th:only-of-type {\n",
       "        vertical-align: middle;\n",
       "    }\n",
       "\n",
       "    .dataframe tbody tr th {\n",
       "        vertical-align: top;\n",
       "    }\n",
       "\n",
       "    .dataframe thead th {\n",
       "        text-align: right;\n",
       "    }\n",
       "</style>\n",
       "<table border=\"1\" class=\"dataframe\">\n",
       "  <thead>\n",
       "    <tr style=\"text-align: right;\">\n",
       "      <th></th>\n",
       "      <th>SmoothL1Loss</th>\n",
       "      <th>MAE</th>\n",
       "      <th>RMSE</th>\n",
       "      <th>Loss</th>\n",
       "      <th>RegLoss</th>\n",
       "    </tr>\n",
       "  </thead>\n",
       "  <tbody>\n",
       "    <tr>\n",
       "      <th>0</th>\n",
       "      <td>0.075198</td>\n",
       "      <td>0.343867</td>\n",
       "      <td>0.385207</td>\n",
       "      <td>0.052463</td>\n",
       "      <td>0.0</td>\n",
       "    </tr>\n",
       "    <tr>\n",
       "      <th>1</th>\n",
       "      <td>0.035055</td>\n",
       "      <td>0.230963</td>\n",
       "      <td>0.261641</td>\n",
       "      <td>0.024278</td>\n",
       "      <td>0.0</td>\n",
       "    </tr>\n",
       "    <tr>\n",
       "      <th>2</th>\n",
       "      <td>0.009174</td>\n",
       "      <td>0.101311</td>\n",
       "      <td>0.128857</td>\n",
       "      <td>0.006328</td>\n",
       "      <td>0.0</td>\n",
       "    </tr>\n",
       "    <tr>\n",
       "      <th>3</th>\n",
       "      <td>0.002957</td>\n",
       "      <td>0.052670</td>\n",
       "      <td>0.074566</td>\n",
       "      <td>0.002209</td>\n",
       "      <td>0.0</td>\n",
       "    </tr>\n",
       "    <tr>\n",
       "      <th>4</th>\n",
       "      <td>0.001952</td>\n",
       "      <td>0.042608</td>\n",
       "      <td>0.060207</td>\n",
       "      <td>0.001527</td>\n",
       "      <td>0.0</td>\n",
       "    </tr>\n",
       "    <tr>\n",
       "      <th>...</th>\n",
       "      <td>...</td>\n",
       "      <td>...</td>\n",
       "      <td>...</td>\n",
       "      <td>...</td>\n",
       "      <td>...</td>\n",
       "    </tr>\n",
       "    <tr>\n",
       "      <th>107</th>\n",
       "      <td>0.000076</td>\n",
       "      <td>0.007946</td>\n",
       "      <td>0.011868</td>\n",
       "      <td>0.000064</td>\n",
       "      <td>0.0</td>\n",
       "    </tr>\n",
       "    <tr>\n",
       "      <th>108</th>\n",
       "      <td>0.000076</td>\n",
       "      <td>0.007940</td>\n",
       "      <td>0.011922</td>\n",
       "      <td>0.000064</td>\n",
       "      <td>0.0</td>\n",
       "    </tr>\n",
       "    <tr>\n",
       "      <th>109</th>\n",
       "      <td>0.000076</td>\n",
       "      <td>0.007924</td>\n",
       "      <td>0.011940</td>\n",
       "      <td>0.000064</td>\n",
       "      <td>0.0</td>\n",
       "    </tr>\n",
       "    <tr>\n",
       "      <th>110</th>\n",
       "      <td>0.000076</td>\n",
       "      <td>0.007911</td>\n",
       "      <td>0.011900</td>\n",
       "      <td>0.000064</td>\n",
       "      <td>0.0</td>\n",
       "    </tr>\n",
       "    <tr>\n",
       "      <th>111</th>\n",
       "      <td>0.000076</td>\n",
       "      <td>0.007883</td>\n",
       "      <td>0.011858</td>\n",
       "      <td>0.000064</td>\n",
       "      <td>0.0</td>\n",
       "    </tr>\n",
       "  </tbody>\n",
       "</table>\n",
       "<p>112 rows × 5 columns</p>\n",
       "</div>"
      ],
      "text/plain": [
       "     SmoothL1Loss       MAE      RMSE      Loss  RegLoss\n",
       "0        0.075198  0.343867  0.385207  0.052463      0.0\n",
       "1        0.035055  0.230963  0.261641  0.024278      0.0\n",
       "2        0.009174  0.101311  0.128857  0.006328      0.0\n",
       "3        0.002957  0.052670  0.074566  0.002209      0.0\n",
       "4        0.001952  0.042608  0.060207  0.001527      0.0\n",
       "..            ...       ...       ...       ...      ...\n",
       "107      0.000076  0.007946  0.011868  0.000064      0.0\n",
       "108      0.000076  0.007940  0.011922  0.000064      0.0\n",
       "109      0.000076  0.007924  0.011940  0.000064      0.0\n",
       "110      0.000076  0.007911  0.011900  0.000064      0.0\n",
       "111      0.000076  0.007883  0.011858  0.000064      0.0\n",
       "\n",
       "[112 rows x 5 columns]"
      ]
     },
     "execution_count": 57,
     "metadata": {},
     "output_type": "execute_result"
    }
   ],
   "source": [
    "model.fit(train, freq='D')"
   ]
  },
  {
   "cell_type": "code",
   "execution_count": 58,
   "metadata": {},
   "outputs": [
    {
     "name": "stderr",
     "output_type": "stream",
     "text": [
      "INFO - (NP.df_utils._infer_frequency) - Major frequency -1D corresponds to 79.327% of the data.\n",
      "WARNING - (NP.df_utils._infer_frequency) - Defined frequency D is different than major frequency -1D\n",
      "INFO - (NP.df_utils._infer_frequency) - Major frequency -1D corresponds to 79.327% of the data.\n",
      "WARNING - (NP.df_utils._infer_frequency) - Defined frequency D is different than major frequency -1D\n",
      "INFO - (NP.df_utils._infer_frequency) - Major frequency -1D corresponds to 79.327% of the data.\n",
      "WARNING - (NP.df_utils._infer_frequency) - Defined frequency D is different than major frequency -1D\n",
      "INFO - (NP.df_utils._infer_frequency) - Major frequency -1D corresponds to 79.327% of the data.\n",
      "WARNING - (NP.df_utils._infer_frequency) - Defined frequency D is different than major frequency -1D\n",
      "INFO - (NP.df_utils._infer_frequency) - Major frequency -1D corresponds to 78.947% of the data.\n",
      "WARNING - (NP.df_utils._infer_frequency) - Defined frequency D is different than major frequency -1D\n",
      "INFO - (NP.forecaster.__handle_missing_data) - 91 missing dates added.\n",
      "WARNING - (NP.forecaster.__handle_missing_data) - 91 missing values in column y were detected in total. \n",
      "INFO - (NP.forecaster.__handle_missing_data) - 91 NaN values in column y were auto-imputed.\n",
      "INFO - (NP.df_utils._infer_frequency) - Major frequency -1D corresponds to 78.947% of the data.\n",
      "WARNING - (NP.df_utils._infer_frequency) - Defined frequency D is different than major frequency -1D\n",
      "INFO - (NP.forecaster.__handle_missing_data) - 91 missing dates added.\n",
      "WARNING - (NP.forecaster.__handle_missing_data) - 91 missing values in column y were detected in total. \n",
      "INFO - (NP.forecaster.__handle_missing_data) - 91 NaN values in column y were auto-imputed.\n",
      "INFO - (NP.df_utils._infer_frequency) - Major frequency -1D corresponds to 78.947% of the data.\n",
      "WARNING - (NP.df_utils._infer_frequency) - Defined frequency D is different than major frequency -1D\n",
      "INFO - (NP.forecaster.__handle_missing_data) - 91 missing dates added.\n",
      "WARNING - (NP.forecaster.__handle_missing_data) - 91 missing values in column y were detected in total. \n",
      "INFO - (NP.forecaster.__handle_missing_data) - 91 NaN values in column y were auto-imputed.\n",
      "INFO - (NP.df_utils._infer_frequency) - Major frequency -1D corresponds to 78.947% of the data.\n",
      "WARNING - (NP.df_utils._infer_frequency) - Defined frequency D is different than major frequency -1D\n",
      "INFO - (NP.forecaster.__handle_missing_data) - 91 missing dates added.\n",
      "WARNING - (NP.forecaster.__handle_missing_data) - 91 missing values in column y were detected in total. \n",
      "INFO - (NP.forecaster.__handle_missing_data) - 91 NaN values in column y were auto-imputed.\n"
     ]
    }
   ],
   "source": [
    "predictions = model.predict(test)"
   ]
  },
  {
   "cell_type": "code",
   "execution_count": 59,
   "metadata": {},
   "outputs": [],
   "source": [
    "predictions = predictions[predictions['yhat1'].notna()]"
   ]
  },
  {
   "cell_type": "code",
   "execution_count": 60,
   "metadata": {},
   "outputs": [],
   "source": [
    "Russell2000_predictions = predictions[predictions['ID'] == 'Russell2000']\n",
    "SandP500_predictions = predictions[predictions['ID'] == 'S&P500']\n",
    "Dow_predictions = predictions[predictions['ID'] == 'Dow']\n",
    "NASDAQ_predictions = predictions[predictions['ID'] == 'NASDAQ']"
   ]
  },
  {
   "cell_type": "code",
   "execution_count": 61,
   "metadata": {},
   "outputs": [
    {
     "data": {
      "text/html": [
       "<div>\n",
       "<style scoped>\n",
       "    .dataframe tbody tr th:only-of-type {\n",
       "        vertical-align: middle;\n",
       "    }\n",
       "\n",
       "    .dataframe tbody tr th {\n",
       "        vertical-align: top;\n",
       "    }\n",
       "\n",
       "    .dataframe thead th {\n",
       "        text-align: right;\n",
       "    }\n",
       "</style>\n",
       "<table border=\"1\" class=\"dataframe\">\n",
       "  <thead>\n",
       "    <tr style=\"text-align: right;\">\n",
       "      <th></th>\n",
       "      <th>ds</th>\n",
       "      <th>y</th>\n",
       "      <th>ID</th>\n",
       "      <th>residual1</th>\n",
       "      <th>yhat1</th>\n",
       "      <th>ar1</th>\n",
       "      <th>trend</th>\n",
       "    </tr>\n",
       "  </thead>\n",
       "  <tbody>\n",
       "    <tr>\n",
       "      <th>629</th>\n",
       "      <td>2022-02-03</td>\n",
       "      <td>1991.030000</td>\n",
       "      <td>Russell2000</td>\n",
       "      <td>52.9383</td>\n",
       "      <td>2043.97</td>\n",
       "      <td>151.429</td>\n",
       "      <td>1892.54</td>\n",
       "    </tr>\n",
       "    <tr>\n",
       "      <th>630</th>\n",
       "      <td>2022-02-04</td>\n",
       "      <td>2002.360000</td>\n",
       "      <td>Russell2000</td>\n",
       "      <td>6.99266</td>\n",
       "      <td>2009.35</td>\n",
       "      <td>116.813</td>\n",
       "      <td>1892.54</td>\n",
       "    </tr>\n",
       "    <tr>\n",
       "      <th>631</th>\n",
       "      <td>2022-02-05</td>\n",
       "      <td>2005.773333</td>\n",
       "      <td>Russell2000</td>\n",
       "      <td>-8.37856</td>\n",
       "      <td>1997.39</td>\n",
       "      <td>104.855</td>\n",
       "      <td>1892.54</td>\n",
       "    </tr>\n",
       "    <tr>\n",
       "      <th>632</th>\n",
       "      <td>2022-02-06</td>\n",
       "      <td>2009.186667</td>\n",
       "      <td>Russell2000</td>\n",
       "      <td>-4.69948</td>\n",
       "      <td>2004.49</td>\n",
       "      <td>111.948</td>\n",
       "      <td>1892.54</td>\n",
       "    </tr>\n",
       "    <tr>\n",
       "      <th>633</th>\n",
       "      <td>2022-02-07</td>\n",
       "      <td>2012.600000</td>\n",
       "      <td>Russell2000</td>\n",
       "      <td>-1.56655</td>\n",
       "      <td>2011.03</td>\n",
       "      <td>118.494</td>\n",
       "      <td>1892.54</td>\n",
       "    </tr>\n",
       "    <tr>\n",
       "      <th>...</th>\n",
       "      <td>...</td>\n",
       "      <td>...</td>\n",
       "      <td>...</td>\n",
       "      <td>...</td>\n",
       "      <td>...</td>\n",
       "      <td>...</td>\n",
       "      <td>...</td>\n",
       "    </tr>\n",
       "    <tr>\n",
       "      <th>892</th>\n",
       "      <td>2022-10-24</td>\n",
       "      <td>1748.400000</td>\n",
       "      <td>Russell2000</td>\n",
       "      <td>6.22268</td>\n",
       "      <td>1754.62</td>\n",
       "      <td>-137.917</td>\n",
       "      <td>1892.54</td>\n",
       "    </tr>\n",
       "    <tr>\n",
       "      <th>893</th>\n",
       "      <td>2022-10-25</td>\n",
       "      <td>1796.160000</td>\n",
       "      <td>Russell2000</td>\n",
       "      <td>-48.509</td>\n",
       "      <td>1747.65</td>\n",
       "      <td>-144.888</td>\n",
       "      <td>1892.54</td>\n",
       "    </tr>\n",
       "    <tr>\n",
       "      <th>894</th>\n",
       "      <td>2022-10-26</td>\n",
       "      <td>1804.330000</td>\n",
       "      <td>Russell2000</td>\n",
       "      <td>-12.3912</td>\n",
       "      <td>1791.94</td>\n",
       "      <td>-100.601</td>\n",
       "      <td>1892.54</td>\n",
       "    </tr>\n",
       "    <tr>\n",
       "      <th>895</th>\n",
       "      <td>2022-10-27</td>\n",
       "      <td>1806.320000</td>\n",
       "      <td>Russell2000</td>\n",
       "      <td>3.0572</td>\n",
       "      <td>1809.38</td>\n",
       "      <td>-83.1622</td>\n",
       "      <td>1892.54</td>\n",
       "    </tr>\n",
       "    <tr>\n",
       "      <th>896</th>\n",
       "      <td>2022-10-28</td>\n",
       "      <td>1846.920000</td>\n",
       "      <td>Russell2000</td>\n",
       "      <td>-35.2292</td>\n",
       "      <td>1811.69</td>\n",
       "      <td>-80.8487</td>\n",
       "      <td>1892.54</td>\n",
       "    </tr>\n",
       "  </tbody>\n",
       "</table>\n",
       "<p>268 rows × 7 columns</p>\n",
       "</div>"
      ],
      "text/plain": [
       "            ds            y           ID residual1    yhat1      ar1    trend\n",
       "629 2022-02-03  1991.030000  Russell2000   52.9383  2043.97  151.429  1892.54\n",
       "630 2022-02-04  2002.360000  Russell2000   6.99266  2009.35  116.813  1892.54\n",
       "631 2022-02-05  2005.773333  Russell2000  -8.37856  1997.39  104.855  1892.54\n",
       "632 2022-02-06  2009.186667  Russell2000  -4.69948  2004.49  111.948  1892.54\n",
       "633 2022-02-07  2012.600000  Russell2000  -1.56655  2011.03  118.494  1892.54\n",
       "..         ...          ...          ...       ...      ...      ...      ...\n",
       "892 2022-10-24  1748.400000  Russell2000   6.22268  1754.62 -137.917  1892.54\n",
       "893 2022-10-25  1796.160000  Russell2000   -48.509  1747.65 -144.888  1892.54\n",
       "894 2022-10-26  1804.330000  Russell2000  -12.3912  1791.94 -100.601  1892.54\n",
       "895 2022-10-27  1806.320000  Russell2000    3.0572  1809.38 -83.1622  1892.54\n",
       "896 2022-10-28  1846.920000  Russell2000  -35.2292  1811.69 -80.8487  1892.54\n",
       "\n",
       "[268 rows x 7 columns]"
      ]
     },
     "execution_count": 61,
     "metadata": {},
     "output_type": "execute_result"
    }
   ],
   "source": [
    "Russell2000_predictions"
   ]
  },
  {
   "cell_type": "code",
   "execution_count": 62,
   "metadata": {},
   "outputs": [],
   "source": [
    "from sklearn.metrics import mean_squared_error"
   ]
  },
  {
   "cell_type": "code",
   "execution_count": 63,
   "metadata": {},
   "outputs": [],
   "source": [
    "RMSE = mean_squared_error(Russell2000_predictions['y'], Russell2000_predictions['yhat1'], squared = False)"
   ]
  },
  {
   "cell_type": "code",
   "execution_count": 64,
   "metadata": {},
   "outputs": [
    {
     "data": {
      "text/plain": [
       "28.89447716064545"
      ]
     },
     "execution_count": 64,
     "metadata": {},
     "output_type": "execute_result"
    }
   ],
   "source": [
    "RMSE"
   ]
  },
  {
   "cell_type": "code",
   "execution_count": 65,
   "metadata": {},
   "outputs": [],
   "source": [
    "RMSE = mean_squared_error(SandP500_predictions['y'], SandP500_predictions['yhat1'], squared = False)"
   ]
  },
  {
   "cell_type": "code",
   "execution_count": 66,
   "metadata": {},
   "outputs": [
    {
     "data": {
      "text/plain": [
       "53.898049401276076"
      ]
     },
     "execution_count": 66,
     "metadata": {},
     "output_type": "execute_result"
    }
   ],
   "source": [
    "RMSE"
   ]
  },
  {
   "cell_type": "code",
   "execution_count": 67,
   "metadata": {},
   "outputs": [],
   "source": [
    "RMSE = mean_squared_error(Dow_predictions['y'], Dow_predictions['yhat1'], squared = False)"
   ]
  },
  {
   "cell_type": "code",
   "execution_count": 68,
   "metadata": {},
   "outputs": [
    {
     "data": {
      "text/plain": [
       "360.37751083211305"
      ]
     },
     "execution_count": 68,
     "metadata": {},
     "output_type": "execute_result"
    }
   ],
   "source": [
    "RMSE"
   ]
  },
  {
   "cell_type": "code",
   "execution_count": 69,
   "metadata": {},
   "outputs": [],
   "source": [
    "RMSE = mean_squared_error(NASDAQ_predictions['y'], NASDAQ_predictions['yhat1'], squared = False)"
   ]
  },
  {
   "cell_type": "code",
   "execution_count": 70,
   "metadata": {},
   "outputs": [
    {
     "data": {
      "text/plain": [
       "216.76057499062674"
      ]
     },
     "execution_count": 70,
     "metadata": {},
     "output_type": "execute_result"
    }
   ],
   "source": [
    "RMSE"
   ]
  },
  {
   "cell_type": "markdown",
   "metadata": {},
   "source": [
    "# Stock Index Selection"
   ]
  },
  {
   "cell_type": "markdown",
   "metadata": {},
   "source": [
    "### S&P 500 Calculations"
   ]
  },
  {
   "cell_type": "code",
   "execution_count": 118,
   "metadata": {},
   "outputs": [
    {
     "data": {
      "text/plain": [
       "'48.15%'"
      ]
     },
     "execution_count": 118,
     "metadata": {},
     "output_type": "execute_result"
    }
   ],
   "source": [
    "SandP_New = SandP500_predictions[SandP500_predictions['ds'] == datetime.datetime(2022, 10, 28)]['yhat1'].reset_index()['yhat1'][0]\n",
    "SandP_Old = train[(train['ds'] == datetime.datetime(2017, 10, 27)) & (train['ID'] == \"S&P500\")]['y'].reset_index()['y'][0]\n",
    "f\"{round((SandP_New-SandP_Old)/SandP_Old*100, 2)}%\""
   ]
  },
  {
   "cell_type": "markdown",
   "metadata": {},
   "source": [
    "### NASDAQ Calculations"
   ]
  },
  {
   "cell_type": "code",
   "execution_count": 119,
   "metadata": {},
   "outputs": [
    {
     "data": {
      "text/plain": [
       "'61.6%'"
      ]
     },
     "execution_count": 119,
     "metadata": {},
     "output_type": "execute_result"
    }
   ],
   "source": [
    "NASDAQ_New = NASDAQ_predictions[NASDAQ_predictions['ds'] == datetime.datetime(2022, 10, 28)]['yhat1'].reset_index()['yhat1'][0]\n",
    "NASDAQ_Old = train[(train['ds'] == datetime.datetime(2017, 10, 27)) & (train['ID'] == \"NASDAQ\")]['y'].reset_index()['y'][0]\n",
    "f\"{round((NASDAQ_New-NASDAQ_Old)/NASDAQ_Old*100, 2)}%\""
   ]
  },
  {
   "cell_type": "markdown",
   "metadata": {},
   "source": [
    "### Dow Calculations"
   ]
  },
  {
   "cell_type": "code",
   "execution_count": 120,
   "metadata": {},
   "outputs": [
    {
     "data": {
      "text/plain": [
       "'36.54%'"
      ]
     },
     "execution_count": 120,
     "metadata": {},
     "output_type": "execute_result"
    }
   ],
   "source": [
    "Dow_New = Dow_predictions[Dow_predictions['ds'] == datetime.datetime(2022, 10, 28)]['yhat1'].reset_index()['yhat1'][0]\n",
    "Dow_Old = train[(train['ds'] == datetime.datetime(2017, 10, 27)) & (train['ID'] == \"Dow\")]['y'].reset_index()['y'][0]\n",
    "f\"{round((Dow_New-Dow_Old)/Dow_Old*100, 2)}%\""
   ]
  },
  {
   "cell_type": "markdown",
   "metadata": {},
   "source": [
    "### Russell 2000 Calculations"
   ]
  },
  {
   "cell_type": "code",
   "execution_count": 116,
   "metadata": {},
   "outputs": [
    {
     "data": {
      "text/plain": [
       "'20.11%'"
      ]
     },
     "execution_count": 116,
     "metadata": {},
     "output_type": "execute_result"
    }
   ],
   "source": [
    "Russell_New = Russell2000_predictions[Russell2000_predictions['ds'] == datetime.datetime(2022, 10, 28)]['yhat1'].reset_index()['yhat1'][0]\n",
    "Russell_Old = train[(train['ds'] == datetime.datetime(2017, 10, 27)) & (train['ID'] == \"Russell2000\")]['y'].reset_index()['y'][0]\n",
    "f\"{round((Russell_New-Russell_Old)/Russell_Old*100, 2)}%\""
   ]
  },
  {
   "cell_type": "markdown",
   "metadata": {},
   "source": [
    "# Graphs"
   ]
  },
  {
   "cell_type": "code",
   "execution_count": 140,
   "metadata": {},
   "outputs": [
    {
     "data": {
      "image/png": "[encoded data removed]",
      "text/plain": [
       "<Figure size 432x288 with 1 Axes>"
      ]
     },
     "metadata": {
      "needs_background": "light"
     },
     "output_type": "display_data"
    },
    {
     "data": {
      "image/png": "[encoded data removed]",
      "text/plain": [
       "<Figure size 432x288 with 1 Axes>"
      ]
     },
     "metadata": {
      "needs_background": "light"
     },
     "output_type": "display_data"
    },
    {
     "data": {
      "image/png": "[encoded data removed]",
      "text/plain": [
       "<Figure size 432x288 with 1 Axes>"
      ]
     },
     "metadata": {
      "needs_background": "light"
     },
     "output_type": "display_data"
    },
    {
     "data": {
      "image/png": "[encoded data removed]",
      "text/plain": [
       "<Figure size 432x288 with 1 Axes>"
      ]
     },
     "metadata": {
      "needs_background": "light"
     },
     "output_type": "display_data"
    },
    {
     "data": {
      "text/plain": [
       "<Figure size 432x288 with 0 Axes>"
      ]
     },
     "metadata": {},
     "output_type": "display_data"
    }
   ],
   "source": [
    "stock_indexes = list(train['ID'].unique())\n",
    "for stock_index in stock_indexes:\n",
    "    points = []\n",
    "    points.append(train[(train['ds'] == datetime.datetime(2017, 10, 27)) & (train['ID'] == stock_index)]['y'].reset_index()['y'][0])\n",
    "    points.append(train[(train['ds'] == datetime.datetime(2018, 10, 29)) & (train['ID'] == stock_index)]['y'].reset_index()['y'][0])\n",
    "    points.append(train[(train['ds'] == datetime.datetime(2019, 10, 28)) & (train['ID'] == stock_index)]['y'].reset_index()['y'][0])\n",
    "    points.append(train[(train['ds'] == datetime.datetime(2020, 10, 28)) & (train['ID'] == stock_index)]['y'].reset_index()['y'][0])\n",
    "    points.append(train[(train['ds'] == datetime.datetime(2021, 10, 29)) & (train['ID'] == stock_index)]['y'].reset_index()['y'][0])\n",
    "    if stock_index == \"S&P500\":\n",
    "        points.append(SandP_New)\n",
    "    elif stock_index == \"NASDAQ\":\n",
    "        points.append(NASDAQ_New)\n",
    "    elif stock_index == \"Dow\":\n",
    "        points.append(Dow_New)\n",
    "    elif stock_index == \"Russell2000\":\n",
    "        points.append(Russell_New)\n",
    "    plt.plot([2017,2018,2019,2020,2021,2022], points)\n",
    "    plt.title(f\"{stock_index} Trends\")\n",
    "    plt.xlabel(\"Year\")\n",
    "    plt.ylabel(\"Value\")\n",
    "    plt.show()\n",
    "    plt.clf()"
   ]
  },
  {
   "cell_type": "code",
   "execution_count": null,
   "metadata": {},
   "outputs": [],
   "source": []
  }
 ],
 "metadata": {
  "kernelspec": {
   "display_name": "Python 3",
   "language": "python",
   "name": "python3"
  },
  "language_info": {
   "codemirror_mode": {
    "name": "ipython",
    "version": 3
   },
   "file_extension": ".py",
   "mimetype": "text/x-python",
   "name": "python",
   "nbconvert_exporter": "python",
   "pygments_lexer": "ipython3",
   "version": "3.8.5"
  }
 },
 "nbformat": 4,
 "nbformat_minor": 4
}
