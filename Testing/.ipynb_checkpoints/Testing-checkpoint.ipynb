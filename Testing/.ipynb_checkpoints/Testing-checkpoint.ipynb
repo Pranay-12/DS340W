{
 "cells": [
  {
   "cell_type": "markdown",
   "id": "ed7ae23d",
   "metadata": {},
   "source": [
    "# Imports"
   ]
  },
  {
   "cell_type": "code",
   "execution_count": 1,
   "id": "121f649f",
   "metadata": {},
   "outputs": [],
   "source": [
    "import pandas as pd"
   ]
  },
  {
   "cell_type": "markdown",
   "id": "245f3ad7",
   "metadata": {},
   "source": [
    "# Random Portfolio Evaluation"
   ]
  },
  {
   "cell_type": "code",
   "execution_count": 2,
   "id": "1644b161",
   "metadata": {},
   "outputs": [],
   "source": [
    "CAG = pd.read_csv('./Top_5_Random_Stocks/CAG.csv')\n",
    "EMR = pd.read_csv('./Top_5_Random_Stocks/EMR.csv')\n",
    "HSY = pd.read_csv('./Top_5_Random_Stocks/HSY.csv')\n",
    "WBA = pd.read_csv('./Top_5_Random_Stocks/WBA.csv')\n",
    "INCY = pd.read_csv('./Top_5_Random_Stocks/INCY.csv')"
   ]
  },
  {
   "cell_type": "code",
   "execution_count": 3,
   "id": "e44a8d8b",
   "metadata": {},
   "outputs": [],
   "source": [
    "random_portfolio = [CAG, EMR, HSY, WBA, INCY]"
   ]
  },
  {
   "cell_type": "code",
   "execution_count": 4,
   "id": "d8aa248a",
   "metadata": {},
   "outputs": [],
   "source": [
    "random_total_return = []\n",
    "for df in random_portfolio:\n",
    "    random_total_return.append(df['Close'][len(df)-1] - df['Close'][0])\n",
    "    "
   ]
  },
  {
   "cell_type": "code",
   "execution_count": 5,
   "id": "15a08757",
   "metadata": {},
   "outputs": [
    {
     "data": {
      "text/plain": [
       "'Total Return: $40.78'"
      ]
     },
     "execution_count": 5,
     "metadata": {},
     "output_type": "execute_result"
    }
   ],
   "source": [
    "f\"Total Return: ${round(sum(random_total_return),2)}\""
   ]
  },
  {
   "cell_type": "markdown",
   "id": "3daaf986",
   "metadata": {},
   "source": [
    "# Selected Portfolio Evaluation"
   ]
  },
  {
   "cell_type": "code",
   "execution_count": 6,
   "id": "29ebd372",
   "metadata": {},
   "outputs": [],
   "source": [
    "REGN = pd.read_csv('./Top_5_Selected_Stocks/REGN.csv')\n",
    "MDLZ = pd.read_csv('./Top_5_Selected_Stocks/MDLZ.csv')\n",
    "WBA = pd.read_csv('./Top_5_Selected_Stocks/WBA.csv')\n",
    "XEL = pd.read_csv('./Top_5_Selected_Stocks/XEL.csv')\n",
    "VRTX = pd.read_csv('./Top_5_Selected_Stocks/VRTX.csv')"
   ]
  },
  {
   "cell_type": "code",
   "execution_count": 7,
   "id": "a9d91a7d",
   "metadata": {},
   "outputs": [],
   "source": [
    "selected_portfolio = [REGN, MDLZ, WBA, XEL, VRTX]"
   ]
  },
  {
   "cell_type": "code",
   "execution_count": 8,
   "id": "c00a5a2a",
   "metadata": {},
   "outputs": [],
   "source": [
    "selected_total_return = []\n",
    "for df in selected_portfolio:\n",
    "    selected_total_return.append(df['Close'][len(df)-1] - df['Close'][0])"
   ]
  },
  {
   "cell_type": "code",
   "execution_count": 9,
   "id": "1a199c6d",
   "metadata": {
    "scrolled": true
   },
   "outputs": [
    {
     "data": {
      "text/plain": [
       "'Total Return: $191.7'"
      ]
     },
     "execution_count": 9,
     "metadata": {},
     "output_type": "execute_result"
    }
   ],
   "source": [
    "f\"Total Return: ${round(sum(selected_total_return),2)}\""
   ]
  }
 ],
 "metadata": {
  "kernelspec": {
   "display_name": "Python 3",
   "language": "python",
   "name": "python3"
  },
  "language_info": {
   "codemirror_mode": {
    "name": "ipython",
    "version": 3
   },
   "file_extension": ".py",
   "mimetype": "text/x-python",
   "name": "python",
   "nbconvert_exporter": "python",
   "pygments_lexer": "ipython3",
   "version": "3.8.5"
  }
 },
 "nbformat": 4,
 "nbformat_minor": 5
}
