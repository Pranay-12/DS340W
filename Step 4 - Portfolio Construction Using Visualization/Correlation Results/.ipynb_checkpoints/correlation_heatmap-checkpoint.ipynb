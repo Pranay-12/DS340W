{
 "cells": [
  {
   "cell_type": "code",
   "execution_count": 13,
   "id": "5c4a3e53",
   "metadata": {},
   "outputs": [],
   "source": [
    "import pandas as pd\n",
    "import numpy as np\n",
    "import seaborn as sns\n",
    "import matplotlib.pyplot as plt\n",
    "import warnings\n",
    "import copy"
   ]
  },
  {
   "cell_type": "code",
   "execution_count": 26,
   "id": "7a83c060",
   "metadata": {},
   "outputs": [],
   "source": [
    "df = pd.read_csv('random_final_results.csv')"
   ]
  },
  {
   "cell_type": "code",
   "execution_count": 27,
   "id": "29663298",
   "metadata": {},
   "outputs": [],
   "source": [
    "df_flipped = copy.deepcopy(df)\n",
    "df_flipped.columns = ['stock2', 'stock1', 'Correlation']"
   ]
  },
  {
   "cell_type": "code",
   "execution_count": 28,
   "id": "44d8b16c",
   "metadata": {},
   "outputs": [],
   "source": [
    "new_df = pd.concat([df, df_flipped], axis = 0)"
   ]
  },
  {
   "cell_type": "code",
   "execution_count": 31,
   "id": "052fc068",
   "metadata": {},
   "outputs": [],
   "source": [
    "final_df = new_df.pivot(index='stock1', columns='stock2', values='Correlation')"
   ]
  },
  {
   "cell_type": "code",
   "execution_count": 34,
   "id": "259d6be7",
   "metadata": {},
   "outputs": [],
   "source": [
    "final_df.fillna(1, inplace=True)"
   ]
  },
  {
   "cell_type": "code",
   "execution_count": 35,
   "id": "9e875a71",
   "metadata": {},
   "outputs": [
    {
     "data": {
      "text/html": [
       "<div>\n",
       "<style scoped>\n",
       "    .dataframe tbody tr th:only-of-type {\n",
       "        vertical-align: middle;\n",
       "    }\n",
       "\n",
       "    .dataframe tbody tr th {\n",
       "        vertical-align: top;\n",
       "    }\n",
       "\n",
       "    .dataframe thead th {\n",
       "        text-align: right;\n",
       "    }\n",
       "</style>\n",
       "<table border=\"1\" class=\"dataframe\">\n",
       "  <thead>\n",
       "    <tr style=\"text-align: right;\">\n",
       "      <th>stock2</th>\n",
       "      <th>AXP</th>\n",
       "      <th>BBY</th>\n",
       "      <th>CAG</th>\n",
       "      <th>EMR</th>\n",
       "      <th>HSY</th>\n",
       "      <th>INCY</th>\n",
       "      <th>MCK</th>\n",
       "      <th>MNST</th>\n",
       "      <th>TGT</th>\n",
       "      <th>WBA</th>\n",
       "    </tr>\n",
       "    <tr>\n",
       "      <th>stock1</th>\n",
       "      <th></th>\n",
       "      <th></th>\n",
       "      <th></th>\n",
       "      <th></th>\n",
       "      <th></th>\n",
       "      <th></th>\n",
       "      <th></th>\n",
       "      <th></th>\n",
       "      <th></th>\n",
       "      <th></th>\n",
       "    </tr>\n",
       "  </thead>\n",
       "  <tbody>\n",
       "    <tr>\n",
       "      <th>AXP</th>\n",
       "      <td>1.000000</td>\n",
       "      <td>0.243873</td>\n",
       "      <td>-0.201925</td>\n",
       "      <td>0.336721</td>\n",
       "      <td>0.337455</td>\n",
       "      <td>0.467742</td>\n",
       "      <td>0.009143</td>\n",
       "      <td>-0.004130</td>\n",
       "      <td>0.190230</td>\n",
       "      <td>0.330277</td>\n",
       "    </tr>\n",
       "    <tr>\n",
       "      <th>BBY</th>\n",
       "      <td>0.243873</td>\n",
       "      <td>1.000000</td>\n",
       "      <td>-0.077021</td>\n",
       "      <td>-0.153700</td>\n",
       "      <td>-0.234420</td>\n",
       "      <td>0.341826</td>\n",
       "      <td>0.015063</td>\n",
       "      <td>0.103556</td>\n",
       "      <td>0.574329</td>\n",
       "      <td>0.659111</td>\n",
       "    </tr>\n",
       "    <tr>\n",
       "      <th>CAG</th>\n",
       "      <td>-0.201925</td>\n",
       "      <td>-0.077021</td>\n",
       "      <td>1.000000</td>\n",
       "      <td>0.512145</td>\n",
       "      <td>0.287846</td>\n",
       "      <td>1.000000</td>\n",
       "      <td>0.380230</td>\n",
       "      <td>0.560954</td>\n",
       "      <td>-0.078412</td>\n",
       "      <td>0.890143</td>\n",
       "    </tr>\n",
       "    <tr>\n",
       "      <th>EMR</th>\n",
       "      <td>0.336721</td>\n",
       "      <td>-0.153700</td>\n",
       "      <td>0.512145</td>\n",
       "      <td>1.000000</td>\n",
       "      <td>0.068693</td>\n",
       "      <td>1.000000</td>\n",
       "      <td>0.050247</td>\n",
       "      <td>-0.239946</td>\n",
       "      <td>0.122893</td>\n",
       "      <td>0.483977</td>\n",
       "    </tr>\n",
       "    <tr>\n",
       "      <th>HSY</th>\n",
       "      <td>0.337455</td>\n",
       "      <td>-0.234420</td>\n",
       "      <td>0.287846</td>\n",
       "      <td>0.068693</td>\n",
       "      <td>1.000000</td>\n",
       "      <td>0.977237</td>\n",
       "      <td>0.819813</td>\n",
       "      <td>-0.401949</td>\n",
       "      <td>0.034406</td>\n",
       "      <td>1.000000</td>\n",
       "    </tr>\n",
       "    <tr>\n",
       "      <th>INCY</th>\n",
       "      <td>0.467742</td>\n",
       "      <td>0.341826</td>\n",
       "      <td>1.000000</td>\n",
       "      <td>1.000000</td>\n",
       "      <td>0.977237</td>\n",
       "      <td>1.000000</td>\n",
       "      <td>0.312716</td>\n",
       "      <td>1.000000</td>\n",
       "      <td>-0.016354</td>\n",
       "      <td>1.000000</td>\n",
       "    </tr>\n",
       "    <tr>\n",
       "      <th>MCK</th>\n",
       "      <td>0.009143</td>\n",
       "      <td>0.015063</td>\n",
       "      <td>0.380230</td>\n",
       "      <td>0.050247</td>\n",
       "      <td>0.819813</td>\n",
       "      <td>0.312716</td>\n",
       "      <td>1.000000</td>\n",
       "      <td>-0.013791</td>\n",
       "      <td>-0.053109</td>\n",
       "      <td>-0.015973</td>\n",
       "    </tr>\n",
       "    <tr>\n",
       "      <th>MNST</th>\n",
       "      <td>-0.004130</td>\n",
       "      <td>0.103556</td>\n",
       "      <td>0.560954</td>\n",
       "      <td>-0.239946</td>\n",
       "      <td>-0.401949</td>\n",
       "      <td>1.000000</td>\n",
       "      <td>-0.013791</td>\n",
       "      <td>1.000000</td>\n",
       "      <td>-0.606003</td>\n",
       "      <td>1.000000</td>\n",
       "    </tr>\n",
       "    <tr>\n",
       "      <th>TGT</th>\n",
       "      <td>0.190230</td>\n",
       "      <td>0.574329</td>\n",
       "      <td>-0.078412</td>\n",
       "      <td>0.122893</td>\n",
       "      <td>0.034406</td>\n",
       "      <td>-0.016354</td>\n",
       "      <td>-0.053109</td>\n",
       "      <td>-0.606003</td>\n",
       "      <td>1.000000</td>\n",
       "      <td>0.096782</td>\n",
       "    </tr>\n",
       "    <tr>\n",
       "      <th>WBA</th>\n",
       "      <td>0.330277</td>\n",
       "      <td>0.659111</td>\n",
       "      <td>0.890143</td>\n",
       "      <td>0.483977</td>\n",
       "      <td>1.000000</td>\n",
       "      <td>1.000000</td>\n",
       "      <td>-0.015973</td>\n",
       "      <td>1.000000</td>\n",
       "      <td>0.096782</td>\n",
       "      <td>1.000000</td>\n",
       "    </tr>\n",
       "  </tbody>\n",
       "</table>\n",
       "</div>"
      ],
      "text/plain": [
       "stock2       AXP       BBY       CAG       EMR       HSY      INCY       MCK  \\\n",
       "stock1                                                                         \n",
       "AXP     1.000000  0.243873 -0.201925  0.336721  0.337455  0.467742  0.009143   \n",
       "BBY     0.243873  1.000000 -0.077021 -0.153700 -0.234420  0.341826  0.015063   \n",
       "CAG    -0.201925 -0.077021  1.000000  0.512145  0.287846  1.000000  0.380230   \n",
       "EMR     0.336721 -0.153700  0.512145  1.000000  0.068693  1.000000  0.050247   \n",
       "HSY     0.337455 -0.234420  0.287846  0.068693  1.000000  0.977237  0.819813   \n",
       "INCY    0.467742  0.341826  1.000000  1.000000  0.977237  1.000000  0.312716   \n",
       "MCK     0.009143  0.015063  0.380230  0.050247  0.819813  0.312716  1.000000   \n",
       "MNST   -0.004130  0.103556  0.560954 -0.239946 -0.401949  1.000000 -0.013791   \n",
       "TGT     0.190230  0.574329 -0.078412  0.122893  0.034406 -0.016354 -0.053109   \n",
       "WBA     0.330277  0.659111  0.890143  0.483977  1.000000  1.000000 -0.015973   \n",
       "\n",
       "stock2      MNST       TGT       WBA  \n",
       "stock1                                \n",
       "AXP    -0.004130  0.190230  0.330277  \n",
       "BBY     0.103556  0.574329  0.659111  \n",
       "CAG     0.560954 -0.078412  0.890143  \n",
       "EMR    -0.239946  0.122893  0.483977  \n",
       "HSY    -0.401949  0.034406  1.000000  \n",
       "INCY    1.000000 -0.016354  1.000000  \n",
       "MCK    -0.013791 -0.053109 -0.015973  \n",
       "MNST    1.000000 -0.606003  1.000000  \n",
       "TGT    -0.606003  1.000000  0.096782  \n",
       "WBA     1.000000  0.096782  1.000000  "
      ]
     },
     "execution_count": 35,
     "metadata": {},
     "output_type": "execute_result"
    }
   ],
   "source": [
    "final_df"
   ]
  },
  {
   "cell_type": "code",
   "execution_count": 38,
   "id": "c9cc0818",
   "metadata": {},
   "outputs": [
    {
     "data": {
      "image/png": "[encoded data removed]",
      "text/plain": [
       "<Figure size 720x720 with 2 Axes>"
      ]
     },
     "metadata": {
      "needs_background": "light"
     },
     "output_type": "display_data"
    }
   ],
   "source": [
    "plt.figure(figsize=(10,10))\n",
    "heat_map = sns.heatmap( final_df, linewidth = 1 , annot = True)\n",
    "plt.title( \"Correlation Heatmap\" )\n",
    "plt.show()"
   ]
  },
  {
   "cell_type": "code",
   "execution_count": 46,
   "id": "27792624",
   "metadata": {
    "scrolled": true
   },
   "outputs": [],
   "source": [
    "means = final_df.mean().sort_values(ascending=False)"
   ]
  },
  {
   "cell_type": "code",
   "execution_count": 50,
   "id": "27e3d7f5",
   "metadata": {},
   "outputs": [],
   "source": [
    "means = pd.DataFrame(means).reset_index()"
   ]
  },
  {
   "cell_type": "code",
   "execution_count": 51,
   "id": "3ba91870",
   "metadata": {},
   "outputs": [],
   "source": [
    "means.columns = [\"Stock\", \"Correlation\"]"
   ]
  },
  {
   "cell_type": "code",
   "execution_count": 54,
   "id": "62ab49ad",
   "metadata": {},
   "outputs": [
    {
     "data": {
      "text/html": [
       "<div>\n",
       "<style scoped>\n",
       "    .dataframe tbody tr th:only-of-type {\n",
       "        vertical-align: middle;\n",
       "    }\n",
       "\n",
       "    .dataframe tbody tr th {\n",
       "        vertical-align: top;\n",
       "    }\n",
       "\n",
       "    .dataframe thead th {\n",
       "        text-align: right;\n",
       "    }\n",
       "</style>\n",
       "<table border=\"1\" class=\"dataframe\">\n",
       "  <thead>\n",
       "    <tr style=\"text-align: right;\">\n",
       "      <th></th>\n",
       "      <th>Stock</th>\n",
       "      <th>Correlation</th>\n",
       "    </tr>\n",
       "  </thead>\n",
       "  <tbody>\n",
       "    <tr>\n",
       "      <th>0</th>\n",
       "      <td>INCY</td>\n",
       "      <td>0.708317</td>\n",
       "    </tr>\n",
       "    <tr>\n",
       "      <th>1</th>\n",
       "      <td>WBA</td>\n",
       "      <td>0.644432</td>\n",
       "    </tr>\n",
       "    <tr>\n",
       "      <th>2</th>\n",
       "      <td>CAG</td>\n",
       "      <td>0.427396</td>\n",
       "    </tr>\n",
       "    <tr>\n",
       "      <th>3</th>\n",
       "      <td>HSY</td>\n",
       "      <td>0.388908</td>\n",
       "    </tr>\n",
       "    <tr>\n",
       "      <th>4</th>\n",
       "      <td>EMR</td>\n",
       "      <td>0.318103</td>\n",
       "    </tr>\n",
       "    <tr>\n",
       "      <th>5</th>\n",
       "      <td>AXP</td>\n",
       "      <td>0.270938</td>\n",
       "    </tr>\n",
       "    <tr>\n",
       "      <th>6</th>\n",
       "      <td>MCK</td>\n",
       "      <td>0.250434</td>\n",
       "    </tr>\n",
       "    <tr>\n",
       "      <th>7</th>\n",
       "      <td>BBY</td>\n",
       "      <td>0.247262</td>\n",
       "    </tr>\n",
       "    <tr>\n",
       "      <th>8</th>\n",
       "      <td>MNST</td>\n",
       "      <td>0.239869</td>\n",
       "    </tr>\n",
       "    <tr>\n",
       "      <th>9</th>\n",
       "      <td>TGT</td>\n",
       "      <td>0.126476</td>\n",
       "    </tr>\n",
       "  </tbody>\n",
       "</table>\n",
       "</div>"
      ],
      "text/plain": [
       "  Stock  Correlation\n",
       "0  INCY     0.708317\n",
       "1   WBA     0.644432\n",
       "2   CAG     0.427396\n",
       "3   HSY     0.388908\n",
       "4   EMR     0.318103\n",
       "5   AXP     0.270938\n",
       "6   MCK     0.250434\n",
       "7   BBY     0.247262\n",
       "8  MNST     0.239869\n",
       "9   TGT     0.126476"
      ]
     },
     "execution_count": 54,
     "metadata": {},
     "output_type": "execute_result"
    }
   ],
   "source": [
    "means"
   ]
  },
  {
   "cell_type": "code",
   "execution_count": 53,
   "id": "37778d6a",
   "metadata": {},
   "outputs": [
    {
     "data": {
      "text/plain": [
       "Text(0.5, 1.0, 'Average of each correlations')"
      ]
     },
     "execution_count": 53,
     "metadata": {},
     "output_type": "execute_result"
    },
    {
     "data": {
      "image/png": "[encoded data removed]",
      "text/plain": [
       "<Figure size 432x288 with 1 Axes>"
      ]
     },
     "metadata": {
      "needs_background": "light"
     },
     "output_type": "display_data"
    }
   ],
   "source": [
    "means.plot.bar();\n",
    "plt.title('Average of each correlations')"
   ]
  },
  {
   "cell_type": "code",
   "execution_count": null,
   "id": "adb0e158",
   "metadata": {},
   "outputs": [],
   "source": []
  }
 ],
 "metadata": {
  "kernelspec": {
   "display_name": "Python 3",
   "language": "python",
   "name": "python3"
  },
  "language_info": {
   "codemirror_mode": {
    "name": "ipython",
    "version": 3
   },
   "file_extension": ".py",
   "mimetype": "text/x-python",
   "name": "python",
   "nbconvert_exporter": "python",
   "pygments_lexer": "ipython3",
   "version": "3.8.5"
  }
 },
 "nbformat": 4,
 "nbformat_minor": 5
}
