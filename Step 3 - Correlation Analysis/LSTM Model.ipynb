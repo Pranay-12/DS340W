{
 "cells": [
  {
   "cell_type": "markdown",
   "id": "c50c64c1",
   "metadata": {},
   "source": [
    "We made slight modifications from the notebook developed by Hyeong Kyu Choi, which can be found at the following link: https://github.com/imhgchoi/ARIMA-LSTM-hybrid-corrcoef-predict"
   ]
  },
  {
   "cell_type": "code",
   "execution_count": 1,
   "id": "f52df3a5",
   "metadata": {},
   "outputs": [],
   "source": [
    "import pandas as pd\n",
    "import numpy as np\n",
    "from keras.models import load_model\n",
    "from keras.models import Sequential, load_model\n",
    "from keras.layers import Dense, LSTM, Activation\n",
    "from keras import backend as K\n",
    "from keras.utils.generic_utils import get_custom_objects\n",
    "from keras.callbacks import ModelCheckpoint\n",
    "from keras.regularizers import l1_l2"
   ]
  },
  {
   "cell_type": "code",
   "execution_count": 12,
   "id": "1c463eab",
   "metadata": {},
   "outputs": [],
   "source": [
    "#dataset = pd.read_csv('./Selected_Stocks_Results/residuals.csv')\n",
    "dataset = pd.read_csv('./Random_Stocks_Results/residuals.csv')\n",
    "dataset = dataset.loc[:,~dataset.columns.str.contains('^Unnamed')]\n",
    "X = dataset.loc[:,~dataset.columns.str.contains('20')]\n",
    "Y = dataset.loc[:,dataset.columns.str.contains('20')]"
   ]
  },
  {
   "cell_type": "code",
   "execution_count": 13,
   "id": "83d4f3d1",
   "metadata": {},
   "outputs": [],
   "source": [
    "class Double_Tanh(Activation):\n",
    "    def __init__(self, activation, **kwargs):\n",
    "        super(Double_Tanh, self).__init__(activation, **kwargs)\n",
    "        self.__name__ = 'double_tanh'\n",
    "def double_tanh(x):\n",
    "    return (K.tanh(x) * 2)"
   ]
  },
  {
   "cell_type": "code",
   "execution_count": 14,
   "id": "8a36c862",
   "metadata": {},
   "outputs": [],
   "source": [
    "get_custom_objects().update({'double_tanh':Double_Tanh(double_tanh)})\n",
    "model = load_model('epoch247.h5')"
   ]
  },
  {
   "cell_type": "code",
   "execution_count": 15,
   "id": "78309a1c",
   "metadata": {},
   "outputs": [
    {
     "name": "stdout",
     "output_type": "stream",
     "text": [
      "2/2 [==============================] - 0s 5ms/step\n"
     ]
    }
   ],
   "source": [
    "prediction = model.predict(X)"
   ]
  },
  {
   "cell_type": "code",
   "execution_count": 16,
   "id": "b710dabd",
   "metadata": {
    "scrolled": false
   },
   "outputs": [],
   "source": [
    "results = []\n",
    "for i in range(len(prediction)):\n",
    "    results.append(min(prediction[i][0] + Y.loc[i][0], 1))"
   ]
  },
  {
   "cell_type": "code",
   "execution_count": 17,
   "id": "1ef67d60",
   "metadata": {},
   "outputs": [],
   "source": [
    "#stock_pairs = pd.read_csv(\"./Selected_Stocks_Results/stock_pairs.csv\")\n",
    "stock_pairs = pd.read_csv(\"./Random_Stocks_Results/stock_pairs.csv\")"
   ]
  },
  {
   "cell_type": "code",
   "execution_count": 18,
   "id": "6fc17d70",
   "metadata": {},
   "outputs": [],
   "source": [
    "final_results = pd.concat([stock_pairs, pd.DataFrame(results)], axis = 1)"
   ]
  },
  {
   "cell_type": "code",
   "execution_count": 19,
   "id": "1b89e347",
   "metadata": {},
   "outputs": [],
   "source": [
    "final_results.rename({0:\"Correlation\"}, axis = 1, inplace=True)"
   ]
  },
  {
   "cell_type": "code",
   "execution_count": 20,
   "id": "e8b70ff4",
   "metadata": {},
   "outputs": [],
   "source": [
    "#final_results.to_csv(\"./Selected_Stocks_Results/final_results.csv\", index = False)\n",
    "final_results.to_csv(\"./Random_Stocks_Results/final_results.csv\", index = False)"
   ]
  }
 ],
 "metadata": {
  "kernelspec": {
   "display_name": "Python 3",
   "language": "python",
   "name": "python3"
  },
  "language_info": {
   "codemirror_mode": {
    "name": "ipython",
    "version": 3
   },
   "file_extension": ".py",
   "mimetype": "text/x-python",
   "name": "python",
   "nbconvert_exporter": "python",
   "pygments_lexer": "ipython3",
   "version": "3.8.5"
  }
 },
 "nbformat": 4,
 "nbformat_minor": 5
}
