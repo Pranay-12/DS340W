{
 "cells": [
  {
   "cell_type": "code",
   "execution_count": 38,
   "id": "f8dba5f9",
   "metadata": {},
   "outputs": [],
   "source": [
    "import pandas as pd\n",
    "import numpy as np\n",
    "from keras.models import load_model\n",
    "from keras.models import Sequential, load_model\n",
    "from keras.layers import Dense, LSTM, Activation\n",
    "from keras import backend as K\n",
    "from keras.utils.generic_utils import get_custom_objects\n",
    "from keras.callbacks import ModelCheckpoint\n",
    "from keras.regularizers import l1_l2"
   ]
  },
  {
   "cell_type": "code",
   "execution_count": 39,
   "id": "6e654e09",
   "metadata": {},
   "outputs": [],
   "source": [
    "dataset = pd.read_csv('C:\\\\Users\\\\prana\\\\Documents\\\\DS 340W\\\\residuals.csv')\n",
    "dataset = dataset.loc[:,~dataset.columns.str.contains('^Unnamed')]\n",
    "X = dataset.loc[:,~dataset.columns.str.contains('20')]\n",
    "Y = dataset.loc[:,dataset.columns.str.contains('20')]"
   ]
  },
  {
   "cell_type": "code",
   "execution_count": 40,
   "id": "4887feb8",
   "metadata": {
    "scrolled": true
   },
   "outputs": [],
   "source": [
    "X = np.asarray(X).reshape(20,1)\n",
    "Y = np.asarray(Y).reshape(1)"
   ]
  },
  {
   "cell_type": "code",
   "execution_count": 41,
   "id": "fd152936",
   "metadata": {},
   "outputs": [],
   "source": [
    "class Double_Tanh(Activation):\n",
    "    def __init__(self, activation, **kwargs):\n",
    "        super(Double_Tanh, self).__init__(activation, **kwargs)\n",
    "        self.__name__ = 'double_tanh'\n",
    "def double_tanh(x):\n",
    "    return (K.tanh(x) * 2)"
   ]
  },
  {
   "cell_type": "code",
   "execution_count": 42,
   "id": "7f0de548",
   "metadata": {},
   "outputs": [],
   "source": [
    "get_custom_objects().update({'double_tanh':Double_Tanh(double_tanh)})\n",
    "model = load_model('C:\\\\Users\\\\prana\\\\Documents\\\\DS 340W\\\\epoch247.h5')"
   ]
  },
  {
   "cell_type": "code",
   "execution_count": 43,
   "id": "3ce68839",
   "metadata": {},
   "outputs": [
    {
     "name": "stdout",
     "output_type": "stream",
     "text": [
      "WARNING:tensorflow:Model was constructed with shape (None, 20, 1) for input KerasTensor(type_spec=TensorSpec(shape=(None, 20, 1), dtype=tf.float32, name='lstm_1_input'), name='lstm_1_input', description=\"created by layer 'lstm_1_input'\"), but it was called on an input with incompatible shape (None, 1, 1).\n",
      "WARNING:tensorflow:5 out of the last 5 calls to <function Model.make_predict_function.<locals>.predict_function at 0x00000256DFF5A1F0> triggered tf.function retracing. Tracing is expensive and the excessive number of tracings could be due to (1) creating @tf.function repeatedly in a loop, (2) passing tensors with different shapes, (3) passing Python objects instead of tensors. For (1), please define your @tf.function outside of the loop. For (2), @tf.function has reduce_retracing=True option that can avoid unnecessary retracing. For (3), please refer to https://www.tensorflow.org/guide/function#controlling_retracing and https://www.tensorflow.org/api_docs/python/tf/function for  more details.\n",
      "1/1 [==============================] - 0s 282ms/step\n"
     ]
    }
   ],
   "source": [
    "prediction = model.predict(X)"
   ]
  },
  {
   "cell_type": "code",
   "execution_count": 44,
   "id": "a4eb2aeb",
   "metadata": {},
   "outputs": [
    {
     "data": {
      "text/plain": [
       "0.5021408"
      ]
     },
     "execution_count": 44,
     "metadata": {},
     "output_type": "execute_result"
    }
   ],
   "source": [
    "prediction[0][0]"
   ]
  }
 ],
 "metadata": {
  "kernelspec": {
   "display_name": "Python 3",
   "language": "python",
   "name": "python3"
  },
  "language_info": {
   "codemirror_mode": {
    "name": "ipython",
    "version": 3
   },
   "file_extension": ".py",
   "mimetype": "text/x-python",
   "name": "python",
   "nbconvert_exporter": "python",
   "pygments_lexer": "ipython3",
   "version": "3.8.5"
  }
 },
 "nbformat": 4,
 "nbformat_minor": 5
}
