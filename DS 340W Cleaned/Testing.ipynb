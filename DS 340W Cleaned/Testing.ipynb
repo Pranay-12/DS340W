{
 "cells": [
  {
   "cell_type": "code",
   "execution_count": 46,
   "id": "d590300a",
   "metadata": {},
   "outputs": [],
   "source": [
    "import pandas as pd"
   ]
  },
  {
   "cell_type": "code",
   "execution_count": 47,
   "id": "53340d17",
   "metadata": {},
   "outputs": [],
   "source": [
    "CAG = pd.read_csv('./Top_5_Random_Stocks/CAG.csv')\n",
    "EMR = pd.read_csv('./Top_5_Random_Stocks/EMR.csv')\n",
    "HSY = pd.read_csv('./Top_5_Random_Stocks/HSY.csv')\n",
    "WBA = pd.read_csv('./Top_5_Random_Stocks/WBA.csv')\n",
    "INCY = pd.read_csv('./Top_5_Random_Stocks/INCY.csv')"
   ]
  },
  {
   "cell_type": "code",
   "execution_count": 48,
   "id": "f5a29ede",
   "metadata": {},
   "outputs": [],
   "source": [
    "random_portfolio = [CAG, EMR, HSY, WBA, INCY]"
   ]
  },
  {
   "cell_type": "code",
   "execution_count": 49,
   "id": "76a9cbae",
   "metadata": {},
   "outputs": [],
   "source": [
    "random_total_return = []\n",
    "for df in random_portfolio:\n",
    "    random_total_return.append(df['Close'][len(df)-1] - df['Close'][0])\n",
    "    "
   ]
  },
  {
   "cell_type": "code",
   "execution_count": 50,
   "id": "e12a6fd4",
   "metadata": {},
   "outputs": [
    {
     "data": {
      "text/plain": [
       "40.77999499999997"
      ]
     },
     "execution_count": 50,
     "metadata": {},
     "output_type": "execute_result"
    }
   ],
   "source": [
    "sum(random_total_return)"
   ]
  },
  {
   "cell_type": "code",
   "execution_count": 51,
   "id": "5b8f0cae",
   "metadata": {},
   "outputs": [],
   "source": [
    "REGN = pd.read_csv('./Top_5_Selected_Stocks/REGN.csv')\n",
    "MDLZ = pd.read_csv('./Top_5_Selected_Stocks/MDLZ.csv')\n",
    "WBA = pd.read_csv('./Top_5_Selected_Stocks/WBA.csv')\n",
    "XEL = pd.read_csv('./Top_5_Selected_Stocks/XEL.csv')\n",
    "VRTX = pd.read_csv('./Top_5_Selected_Stocks/VRTX.csv')"
   ]
  },
  {
   "cell_type": "code",
   "execution_count": 52,
   "id": "330381d3",
   "metadata": {},
   "outputs": [],
   "source": [
    "selected_portfolio = [REGN, MDLZ, WBA, XEL, VRTX]"
   ]
  },
  {
   "cell_type": "code",
   "execution_count": 53,
   "id": "81552d9b",
   "metadata": {},
   "outputs": [],
   "source": [
    "selected_total_return = []\n",
    "for df in selected_portfolio:\n",
    "    selected_total_return.append(df['Close'][len(df)-1] - df['Close'][0])"
   ]
  },
  {
   "cell_type": "code",
   "execution_count": 54,
   "id": "acc756a5",
   "metadata": {
    "scrolled": true
   },
   "outputs": [
    {
     "data": {
      "text/plain": [
       "191.70005199999997"
      ]
     },
     "execution_count": 54,
     "metadata": {},
     "output_type": "execute_result"
    }
   ],
   "source": [
    "sum(selected_total_return)"
   ]
  }
 ],
 "metadata": {
  "kernelspec": {
   "display_name": "Python 3",
   "language": "python",
   "name": "python3"
  },
  "language_info": {
   "codemirror_mode": {
    "name": "ipython",
    "version": 3
   },
   "file_extension": ".py",
   "mimetype": "text/x-python",
   "name": "python",
   "nbconvert_exporter": "python",
   "pygments_lexer": "ipython3",
   "version": "3.8.5"
  }
 },
 "nbformat": 4,
 "nbformat_minor": 5
}
