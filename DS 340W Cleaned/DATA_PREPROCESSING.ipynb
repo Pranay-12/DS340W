{
 "cells": [
  {
   "cell_type": "markdown",
   "metadata": {},
   "source": [
    "# Library Import"
   ]
  },
  {
   "cell_type": "code",
   "execution_count": 1,
   "metadata": {},
   "outputs": [],
   "source": [
    "import numpy as np\n",
    "import matplotlib.pyplot as plt\n",
    "import pandas as pd\n",
    "import math\n",
    "import os\n",
    "import random\n"
   ]
  },
  {
   "cell_type": "markdown",
   "metadata": {},
   "source": [
    "# Item Selection\n",
    "\n",
    "I selected all the assets that had data from 2008-01-01 among the S&P500 stock list."
   ]
  },
  {
   "cell_type": "code",
   "execution_count": 40,
   "metadata": {},
   "outputs": [
    {
     "name": "stdout",
     "output_type": "stream",
     "text": [
      "10 stocks selected\n",
      "['AXP.csv', 'BBY.csv', 'CAG.csv', 'EMR.csv', 'HSY.csv', 'INCY.csv', 'MCK.csv', 'MNST.csv', 'TGT.csv', 'WBA.csv']\n"
     ]
    }
   ],
   "source": [
    "#path = 'C:\\\\Users\\\\prana\\\\Documents\\\\DS 340W\\\\Selected_Stocks' \n",
    "path = 'C:\\\\Users\\\\prana\\\\Documents\\\\DS 340W\\\\Random_Stocks'\n",
    "stock08 = []\n",
    "for file in os.listdir(path):\n",
    "    file_path = path + '/' + file\n",
    "    date = pd.read_csv(file_path)['Date']\n",
    "    #if len(date)>0 and pd.read_csv(file_path)['Date'][0] <= '2008-01-01' :\n",
    "    stock08.append(file)\n",
    "print(str(len(stock08))+\" stocks selected\")\n",
    "print(stock08)"
   ]
  },
  {
   "cell_type": "markdown",
   "metadata": {},
   "source": [
    "# Organize Data\n",
    "\n",
    "In order to keep concise and deal with missing data, I concatenated all the price data of the selected items above to a single dataframe"
   ]
  },
  {
   "cell_type": "code",
   "execution_count": 41,
   "metadata": {},
   "outputs": [],
   "source": [
    "stock_price_dict = {}\n",
    "\n",
    "for file in stock08 :\n",
    "    path = 'C:\\\\Users\\\\prana\\\\Documents\\\\DS 340W\\\\Random_Stocks\\\\' + file\n",
    "    df = pd.read_csv(path)\n",
    "    pd.to_datetime(df['Date'])\n",
    "    df = df.set_index(pd.DatetimeIndex(df['Date']))\n",
    "    stock_price_dict[file.split(\".\")[0]] = df['Close']\n",
    "\n",
    "#market_path = \"C:\\\\Users\\\\prana\\\\Documents\\\\DS 340W\\\\SP500_index2.csv\"\n",
    "market_path = \"C:\\\\Users\\\\prana\\\\Documents\\\\DS 340W\\\\nasdaq_index.csv\"\n",
    "df = pd.read_csv(market_path)\n",
    "pd.to_datetime(df['Date'])\n",
    "df = df.set_index(pd.DatetimeIndex(df['Date']))\n",
    "#stock_price_dict['NASDAQ'] = df['Close']\n",
    "stock_price_dict['SP500'] = df['Close']\n",
    "    \n",
    "stock_price_df = pd.DataFrame(stock_price_dict)"
   ]
  },
  {
   "cell_type": "code",
   "execution_count": 42,
   "metadata": {
    "scrolled": false
   },
   "outputs": [
    {
     "name": "stdout",
     "output_type": "stream",
     "text": [
      "                  AXP        BBY        CAG        EMR        HSY       INCY  \\\n",
      "Date                                                                           \n",
      "2013-08-30  71.910004  36.000000  26.319065  60.369999  91.949997  33.889999   \n",
      "2013-09-03  72.430000  36.990002  26.381323  60.700001  91.040001  34.250000   \n",
      "2013-09-04  73.139999  37.139999  26.350195  61.330002  90.989998  34.580002   \n",
      "2013-09-05  73.800003  37.490002  26.319065  61.669998  90.190002  35.169998   \n",
      "2013-09-06  73.349998  37.020000  26.225681  61.470001  90.739998  35.619999   \n",
      "\n",
      "                   MCK       MNST        TGT        WBA        SP500  \n",
      "Date                                                                  \n",
      "2013-08-30  121.410004  19.129999  63.310001  48.070000  3589.870117  \n",
      "2013-09-03  122.519997  18.006666  63.590000  48.740002  3612.610107  \n",
      "2013-09-04  123.000000  18.683332  63.549999  49.490002  3649.040039  \n",
      "2013-09-05  122.940002  18.713333  63.459999  50.189999  3658.780029  \n",
      "2013-09-06  123.570000  18.416668  63.290001  49.459999  3660.010010  \n"
     ]
    }
   ],
   "source": [
    "print(stock_price_df.head())"
   ]
  },
  {
   "cell_type": "markdown",
   "metadata": {},
   "source": [
    "# Dealing with Missing Data"
   ]
  },
  {
   "cell_type": "code",
   "execution_count": 43,
   "metadata": {},
   "outputs": [
    {
     "name": "stdout",
     "output_type": "stream",
     "text": [
      "AXP []\n",
      "BBY []\n",
      "CAG []\n",
      "EMR []\n",
      "HSY []\n",
      "INCY []\n",
      "MCK []\n",
      "MNST []\n",
      "TGT []\n",
      "WBA []\n",
      "SP500 []\n"
     ]
    }
   ],
   "source": [
    "NA_col = []\n",
    "NA_ratio = []\n",
    "for col in stock_price_df.columns :\n",
    "    na_index = np.where(stock_price_df[col].isnull())[0]\n",
    "    NA_col.append(col)\n",
    "    NA_ratio.append(len(na_index)/stock_price_df.shape[0] * 100)\n",
    "    print(col,na_index)\n",
    "NA_df = pd.DataFrame({'tickers':NA_col,'NA_ratio':NA_ratio})\n"
   ]
  },
  {
   "cell_type": "code",
   "execution_count": 44,
   "metadata": {},
   "outputs": [
    {
     "data": {
      "image/png": "[encoded data removed]",
      "text/plain": [
       "<Figure size 1296x288 with 1 Axes>"
      ]
     },
     "metadata": {
      "needs_background": "light"
     },
     "output_type": "display_data"
    }
   ],
   "source": [
    "NA_df.plot.bar(rot=0, figsize=(18,4))\n",
    "plt.tick_params(axis='x', which='both', bottom=True, top=False, labelbottom=False)\n",
    "plt.xlabel('tickers')\n",
    "plt.ylabel('NA ratio (%)')\n",
    "plt.show()\n",
    "plt.close()"
   ]
  },
  {
   "cell_type": "markdown",
   "metadata": {},
   "source": [
    "Most of the dataset that has missing data has only one or two data points missing. It would be rational enough to impute the data points with the data from the day right before.\n",
    "\n",
    "However, one company has quite some missing data. 'MMM' is the only company that has high proportion of missing data. Leaving out this one company from the S&P 500 firms wouldn't be a big issue. So I'll drop the 'MMM' column the dataframe"
   ]
  },
  {
   "cell_type": "code",
   "execution_count": 45,
   "metadata": {},
   "outputs": [],
   "source": [
    "def impute_data(column_name):\n",
    "    index = stock_price_df.index.values[0]\n",
    "    price_na_index = np.where(stock_price_df[column_name].isnull())[0]\n",
    "    for i in price_na_index :\n",
    "        stock_price_df[column_name][i] = stock_price_df[column_name][i-1]"
   ]
  },
  {
   "cell_type": "code",
   "execution_count": 46,
   "metadata": {},
   "outputs": [],
   "source": [
    "for item in stock_price_df.columns :\n",
    "    impute_data(item)"
   ]
  },
  {
   "cell_type": "code",
   "execution_count": 47,
   "metadata": {},
   "outputs": [
    {
     "name": "stdout",
     "output_type": "stream",
     "text": [
      "END OF CHECKING. NO NA REMAINING\n"
     ]
    }
   ],
   "source": [
    "# Final Check for NaN\n",
    "for item in stock_price_df.columns :\n",
    "    if stock_price_df[item].isnull().values.any() :\n",
    "        print('stock price data of '+item+' still has NaN')\n",
    "print(\"END OF CHECKING. NO NA REMAINING\")"
   ]
  },
  {
   "cell_type": "code",
   "execution_count": 48,
   "metadata": {},
   "outputs": [],
   "source": [
    "stock_price_df.to_csv(\"C:\\\\Users\\\\prana\\\\Documents\\\\DS 340W\\\\stock08_price.csv\",index_label='Date')"
   ]
  },
  {
   "cell_type": "markdown",
   "metadata": {},
   "source": [
    "# Create Portfolio\n",
    "\n",
    "out of 505 companies, 150 firms are randomly selected for the portfolio."
   ]
  },
  {
   "cell_type": "code",
   "execution_count": 50,
   "metadata": {},
   "outputs": [
    {
     "name": "stdout",
     "output_type": "stream",
     "text": [
      "['AXP', 'BBY', 'CAG', 'EMR', 'HSY', 'INCY', 'MCK', 'MNST', 'TGT', 'WBA']\n"
     ]
    }
   ],
   "source": [
    "df = pd.read_csv(\"C:\\\\Users\\\\prana\\\\Documents\\\\DS 340W\\\\stock08_price.csv\")\n",
    "universe = list(df.columns.values[1:])\n",
    "#universe.remove(\"NASDAQ\")\n",
    "universe.remove(\"SP500\")\n",
    "print(universe)"
   ]
  },
  {
   "cell_type": "code",
   "execution_count": 54,
   "metadata": {},
   "outputs": [],
   "source": [
    "#FOR LIST REUSE#FOR LIS \n",
    "#portfolio = ['AMGN', 'ATVI', 'COST', 'GILD', 'MDLZ', 'PEP', 'REGN', 'VRTX', 'WBA', 'XEL']\n",
    "portfolio = ['AXP', 'BBY', 'CAG', 'EMR', 'HSY', 'INCY', 'MCK', 'MNST', 'TGT', 'WBA']"
   ]
  },
  {
   "cell_type": "markdown",
   "metadata": {},
   "source": [
    "# Prepare the Data"
   ]
  },
  {
   "cell_type": "code",
   "execution_count": 55,
   "metadata": {},
   "outputs": [],
   "source": [
    "def rolling_corr(item1,item2) :\n",
    "    #import data\n",
    "    stock_price_df = pd.read_csv(\"C:\\\\Users\\\\prana\\\\Documents\\\\DS 340W\\\\stock08_price.csv\")\n",
    "    pd.to_datetime(stock_price_df['Date'], format='%Y-%m-%d')\n",
    "    stock_price_df = stock_price_df.set_index(pd.DatetimeIndex(stock_price_df['Date']))\n",
    "    \n",
    "    #calculate\n",
    "    df_pair = pd.concat([stock_price_df[item1], stock_price_df[item2]], axis=1)\n",
    "    df_pair.columns = [item1,item2]\n",
    "    df_corr = df_pair[item1].rolling(window=100).corr(df_pair[item2])\n",
    "    return df_corr\n"
   ]
  },
  {
   "cell_type": "code",
   "execution_count": 56,
   "metadata": {},
   "outputs": [],
   "source": [
    "index_list = []\n",
    "for _ in range(100):\n",
    "    indices = []\n",
    "    for k in range(_, 2100,100):\n",
    "        indices.append(k)\n",
    "    index_list.append(indices)\n",
    "\n",
    "data_matrix = []\n",
    "count = 0\n",
    "stocks_a = []\n",
    "stocks_b = []\n",
    "\n",
    "for i in range(10):\n",
    "    for j in range(9-i):\n",
    "        a = portfolio[i]\n",
    "        b = portfolio[9-j]\n",
    "        file_name = a + '_' + b\n",
    "        stocks_a.append(a)\n",
    "        stocks_b.append(b)\n",
    "            \n",
    "        corr_series = rolling_corr(a, b)[99:]\n",
    "        for j in range(1):\n",
    "            corr_strided = list(corr_series[index_list[j]][:21]).copy()\n",
    "            data_matrix.append(corr_strided)\n",
    "            count+=1\n",
    "            if count % 1000 == 0 :\n",
    "                print(str(count)+' items preprocessed')\n",
    "\n",
    "data_matrix = np.transpose(data_matrix)\n",
    "data_dictionary = {}\n",
    "for i in range(len(data_matrix)):\n",
    "    data_dictionary[str(i)] = data_matrix[i]\n",
    "data_df = pd.DataFrame(data_dictionary)\n",
    "data_df.to_csv(\"dataset.csv\")"
   ]
  },
  {
   "cell_type": "code",
   "execution_count": 57,
   "metadata": {},
   "outputs": [],
   "source": [
    "stock_pairs = pd.DataFrame(stocks_a, stocks_b).reset_index()\n",
    "stock_pairs.columns = [\"stock1\", \"stock2\"]\n",
    "stock_pairs.to_csv(\"stock_pairs.csv\", index=False)"
   ]
  }
 ],
 "metadata": {
  "kernelspec": {
   "display_name": "Python 3",
   "language": "python",
   "name": "python3"
  },
  "language_info": {
   "codemirror_mode": {
    "name": "ipython",
    "version": 3
   },
   "file_extension": ".py",
   "mimetype": "text/x-python",
   "name": "python",
   "nbconvert_exporter": "python",
   "pygments_lexer": "ipython3",
   "version": "3.8.5"
  }
 },
 "nbformat": 4,
 "nbformat_minor": 2
}
