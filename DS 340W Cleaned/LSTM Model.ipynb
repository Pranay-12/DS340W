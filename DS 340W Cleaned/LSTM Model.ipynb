{
 "cells": [
  {
   "cell_type": "code",
   "execution_count": 1,
   "id": "a839a6f7",
   "metadata": {},
   "outputs": [],
   "source": [
    "import pandas as pd\n",
    "import numpy as np\n",
    "from keras.models import load_model\n",
    "from keras.models import Sequential, load_model\n",
    "from keras.layers import Dense, LSTM, Activation\n",
    "from keras import backend as K\n",
    "from keras.utils.generic_utils import get_custom_objects\n",
    "from keras.callbacks import ModelCheckpoint\n",
    "from keras.regularizers import l1_l2"
   ]
  },
  {
   "cell_type": "code",
   "execution_count": 27,
   "id": "426644c4",
   "metadata": {},
   "outputs": [],
   "source": [
    "dataset = pd.read_csv('C:\\\\Users\\\\prana\\\\Documents\\\\DS 340W\\\\residuals.csv')\n",
    "dataset = dataset.loc[:,~dataset.columns.str.contains('^Unnamed')]\n",
    "X = dataset.loc[:,~dataset.columns.str.contains('20')]\n",
    "Y = dataset.loc[:,dataset.columns.str.contains('20')]"
   ]
  },
  {
   "cell_type": "code",
   "execution_count": 28,
   "id": "66f2c20b",
   "metadata": {},
   "outputs": [],
   "source": [
    "class Double_Tanh(Activation):\n",
    "    def __init__(self, activation, **kwargs):\n",
    "        super(Double_Tanh, self).__init__(activation, **kwargs)\n",
    "        self.__name__ = 'double_tanh'\n",
    "def double_tanh(x):\n",
    "    return (K.tanh(x) * 2)"
   ]
  },
  {
   "cell_type": "code",
   "execution_count": 29,
   "id": "0c94c632",
   "metadata": {},
   "outputs": [],
   "source": [
    "get_custom_objects().update({'double_tanh':Double_Tanh(double_tanh)})\n",
    "model = load_model('C:\\\\Users\\\\prana\\\\Documents\\\\DS 340W\\\\epoch247.h5')"
   ]
  },
  {
   "cell_type": "code",
   "execution_count": 30,
   "id": "f97265cb",
   "metadata": {},
   "outputs": [
    {
     "name": "stdout",
     "output_type": "stream",
     "text": [
      "2/2 [==============================] - 0s 18ms/step\n"
     ]
    }
   ],
   "source": [
    "prediction = model.predict(X)"
   ]
  },
  {
   "cell_type": "code",
   "execution_count": 31,
   "id": "98139d4b",
   "metadata": {
    "scrolled": false
   },
   "outputs": [],
   "source": [
    "results = []\n",
    "for i in range(len(prediction)):\n",
    "    results.append(min(prediction[i][0] + Y.loc[i][0], 1))"
   ]
  },
  {
   "cell_type": "code",
   "execution_count": 32,
   "id": "e03114d0",
   "metadata": {},
   "outputs": [],
   "source": [
    "stock_pairs = pd.read_csv(\"stock_pairs.csv\")"
   ]
  },
  {
   "cell_type": "code",
   "execution_count": 33,
   "id": "b490e580",
   "metadata": {},
   "outputs": [],
   "source": [
    "final_results = pd.concat([stock_pairs, pd.DataFrame(results)], axis = 1)"
   ]
  },
  {
   "cell_type": "code",
   "execution_count": 34,
   "id": "7ab31f43",
   "metadata": {},
   "outputs": [],
   "source": [
    "final_results.rename({0:\"Correlation\"}, axis = 1, inplace=True)"
   ]
  },
  {
   "cell_type": "code",
   "execution_count": 35,
   "id": "586a5c05",
   "metadata": {},
   "outputs": [],
   "source": [
    "final_results.to_csv(\"final_results.csv\", index = False)"
   ]
  }
 ],
 "metadata": {
  "kernelspec": {
   "display_name": "Python 3",
   "language": "python",
   "name": "python3"
  },
  "language_info": {
   "codemirror_mode": {
    "name": "ipython",
    "version": 3
   },
   "file_extension": ".py",
   "mimetype": "text/x-python",
   "name": "python",
   "nbconvert_exporter": "python",
   "pygments_lexer": "ipython3",
   "version": "3.8.5"
  }
 },
 "nbformat": 4,
 "nbformat_minor": 5
}
